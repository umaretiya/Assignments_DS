{
 "cells": [
  {
   "cell_type": "code",
   "execution_count": 3,
   "metadata": {},
   "outputs": [
    {
     "name": "stdout",
     "output_type": "stream",
     "text": [
      "check_score([['!!!', 'O', '!'], ['X', '#', '!!!'], ['!!', 'X', 'O']]) ➞ 0\n",
      "check_score([['#', '!'], ['!!', 'X']]) ➞ 2\n"
     ]
    }
   ],
   "source": [
    "\"\"\"\n",
    "1. Write a function that takes a list of lists and returns the value of all of the\n",
    "symbols in it, where each symbol adds or takes something from the total\n",
    "score. Symbol values:\n",
    "# = 5\n",
    "O = 3\n",
    "X = 1\n",
    "! = -1\n",
    "!! = -3\n",
    "!!! = -5\n",
    "A list of lists containing 2 #s, a O, and a !!! would equal (0 + 5 + 5 + 3 - 5) 8.\n",
    "If the final score is negative, return 0 (e.g. 3 #s, 3 !!s, 2 !!!s and a X would be\n",
    "(0 + 5 + 5 + 5 - 3 - 3 - 3 - 5 - 5 + 1) -3, so return 0.\n",
    "Examples\n",
    "check_score([\n",
    "[\"#\", \"!\"],\n",
    "[\"!!\", \"X\"]\n",
    "]) ➞ 2\n",
    "check_score([\n",
    "[\"!!!\", \"O\", \"!\"],\n",
    "[\"X\", \"#\", \"!!!\"],\n",
    "[\"!!\", \"X\", \"O\"]\n",
    "]) ➞ 0\n",
    "\"\"\"\n",
    "def check_score(l):\n",
    "    d = {\"#\":5,\"O\":3,\"X\":1,\"!\":-1,\"!!\":-3,\"!!!\":-5}\n",
    "    f = []\n",
    "    for i in range(0,len(l)):\n",
    "        if type(l[i]) == list:\n",
    "            for j in range(0,len(l[i])):\n",
    "                f.append(d[l[i][j]])\n",
    "    if sum(f) < 0:\n",
    "        return f\"check_score({l}) ➞ {0}\"\n",
    "    else:\n",
    "        return f\"check_score({l}) ➞ {sum(f)}\"\n",
    "\n",
    "print(check_score([\n",
    "[\"!!!\", \"O\", \"!\"],\n",
    "[\"X\", \"#\", \"!!!\"],\n",
    "[\"!!\", \"X\", \"O\"]\n",
    "]))\n",
    "print(check_score([\n",
    "[\"#\", \"!\"],\n",
    "[\"!!\", \"X\"]\n",
    "]))"
   ]
  },
  {
   "cell_type": "code",
   "execution_count": 8,
   "metadata": {},
   "outputs": [
    {
     "name": "stdout",
     "output_type": "stream",
     "text": [
      "combinations((2, 3) ➞ 6)\n",
      "combinations((3, 7, 4) ➞ 84)\n",
      "combinations((2, 3, 4, 5) ➞ 120)\n"
     ]
    }
   ],
   "source": [
    "\"\"\"\n",
    "2. Create a function that takes a variable number of arguments, each\n",
    "argument representing the number of items in a group, and returns the\n",
    "number of permutations (combinations) of items that you could get by taking\n",
    "one item from each group.\n",
    "Examples\n",
    "combinations(2, 3) ➞ 6\n",
    "combinations(3, 7, 4) ➞ 84\n",
    "combinations(2, 3, 4, 5) ➞ 120\n",
    "\"\"\"\n",
    "def combinations(*kargs):\n",
    "    f = 1\n",
    "    for i in kargs:\n",
    "        f *= i\n",
    "    return f\"combinations({kargs} ➞ {f})\"\n",
    "\n",
    "print(combinations(2, 3))\n",
    "print(combinations(3, 7, 4))\n",
    "print(combinations(2, 3, 4, 5))"
   ]
  },
  {
   "cell_type": "code",
   "execution_count": 13,
   "metadata": {},
   "outputs": [
    {
     "data": {
      "text/plain": [
       "\"encode_morse('EDABBIT CHALLENGE') ➞ . -.. .- -... -... .. -   -.-. .... .- .-.. .-.. . -. --. .\""
      ]
     },
     "execution_count": 13,
     "metadata": {},
     "output_type": "execute_result"
    }
   ],
   "source": [
    "\"\"\"\n",
    "3. Create a function that takes a string as an argument and returns the Morse\n",
    "code equivalent.\n",
    "Examples\n",
    "encode_morse(\"EDABBIT CHALLENGE\") ➞ \". -.. .- -... -... .. - -.-. .... .- .-.. .-..\n",
    ". -. --. .\"\n",
    "encode_morse(\"HELP ME !\") ➞ \".... . .-.. .--. -- . -.-.--\"\n",
    "This dictionary can be used for coding:\n",
    "char_to_dots = {\n",
    "'A': '.-', 'B': '-...', 'C': '-.-.', 'D': '-..', 'E': '.', 'F': '..-.',\n",
    "'G': '--.', 'H': '....', 'I': '..', 'J': '.---', 'K': '-.-', 'L': '.-..',\n",
    "'M': '--', 'N': '-.', 'O': '---', 'P': '.--.', 'Q': '--.-', 'R': '.-.',\n",
    "'S': '...', 'T': '-', 'U': '..-', 'V': '...-', 'W': '.--', 'X': '-..-',\n",
    "'Y': '-.--', 'Z': '--..', ' ': ' ', '0': '-----',\n",
    "'1': '.----', '2': '..---', '3': '...--', '4': '....-', '5': '.....',\n",
    "'6': '-....', '7': '--...', '8': '---..', '9': '----.',\n",
    "'&': '.-...', \"'\": '.----.', '@': '.--.-.', ')': '-.--.-', '(': '-.--.',\n",
    "':': '---...', ',': '--..--', '=': '-...-', '!': '-.-.--', '.': '.-.-.-',\n",
    "'-': '-....-', '+': '.-.-.', '\"': '.-..-.', '?': '..--..', '/': '-..-.'\n",
    "}\n",
    "\"\"\"\n",
    "def encode_morse(s):\n",
    "    f = []\n",
    "    char_to_dots = {\n",
    "        'A': '.-', 'B': '-...', 'C': '-.-.', 'D': '-..', 'E': '.', 'F': '..-.',\n",
    "        'G': '--.', 'H': '....', 'I': '..', 'J': '.---', 'K': '-.-', 'L': '.-..',\n",
    "        'M': '--', 'N': '-.', 'O': '---', 'P': '.--.', 'Q': '--.-', 'R': '.-.',\n",
    "        'S': '...', 'T': '-', 'U': '..-', 'V': '...-', 'W': '.--', 'X': '-..-',\n",
    "        'Y': '-.--', 'Z': '--..', ' ': ' ', '0': '-----',\n",
    "        '1': '.----', '2': '..---', '3': '...--', '4': '....-', '5': '.....',\n",
    "        '6': '-....', '7': '--...', '8': '---..', '9': '----.',\n",
    "        '&': '.-...', \"'\": '.----.', '@': '.--.-.', ')': '-.--.-', '(': '-.--.',\n",
    "        ':': '---...', ',': '--..--', '=': '-...-', '!': '-.-.--', '.': '.-.-.-',\n",
    "        '-': '-....-', '+': '.-.-.', '\"': '.-..-.', '?': '..--..', '/': '-..-.'\n",
    "        }\n",
    "    for i in s:\n",
    "        f.append(char_to_dots[i])\n",
    "    return f\"encode_morse('{s}') ➞ {' '.join(f)}\"\n",
    "\n",
    "encode_morse(\"EDABBIT CHALLENGE\")"
   ]
  },
  {
   "cell_type": "code",
   "execution_count": 15,
   "metadata": {},
   "outputs": [
    {
     "name": "stdout",
     "output_type": "stream",
     "text": [
      "prime(7) ➞ True\n",
      "prime(56963) ➞ True\n",
      "prime(5151512515524) ➞ False\n"
     ]
    }
   ],
   "source": [
    "\"\"\"\n",
    "4. Write a function that takes a number and returns True if it&#39;s a prime; False\n",
    "otherwise. The number can be 2^64-1 (2 to the power of 63, not XOR). With\n",
    "the standard technique it would be O(2^64-1), which is much too large for the\n",
    "10 second time limit.\n",
    "Examples\n",
    "prime(7) ➞ True\n",
    "prime(56963) ➞ True\n",
    "prime(5151512515524) ➞ False\n",
    "\"\"\"\n",
    "def prime(in_num):\n",
    "    out_bool = False\n",
    "    if ((in_num-1)%6 == 0) or ((in_num+1)%6 == 0):\n",
    "        out_bool = True\n",
    "    return (f'prime({in_num}) ➞ {out_bool}')\n",
    "\n",
    "print(prime(7))\n",
    "print(prime(56963))\n",
    "print(prime(5151512515524))"
   ]
  },
  {
   "cell_type": "code",
   "execution_count": 26,
   "metadata": {},
   "outputs": [
    {
     "name": "stdout",
     "output_type": "stream",
     "text": [
      "to_boolean_list(deep) ➞ [False, True, True, False]\n",
      "to_boolean_list(loves) ➞ [False, True, False, True, True]\n",
      "to_boolean_list(tesh) ➞ [False, True, True, False]\n"
     ]
    }
   ],
   "source": [
    "\"\"\"\n",
    "5. Create a function that converts a word to a bitstring and then to a boolean\n",
    "list based on the following criteria:\n",
    "1. Locate the position of the letter in the English alphabet (from 1 to 26).\n",
    "2. Odd positions will be represented as 1 and 0 otherwise.\n",
    "3. Convert the represented positions to boolean values, 1 for True and 0\n",
    "for False.\n",
    "4. Store the conversions into an array.\n",
    "Examples\n",
    "to_boolean_list('deep') ➞ [False, True, True, False]\n",
    "# deep converts to 0110\n",
    "# d is the 4th alphabet - 0\n",
    "# e is the 5th alphabet - 1\n",
    "# e is the 5th alphabet - 1\n",
    "# p is the 16th alphabet - 0\n",
    "to_boolean_list('loves') ➞ [False, True, False, True, True]\n",
    "to_boolean_list('tesh') ➞ [False, True, True, False]\n",
    "\"\"\"\n",
    "def to_boolean_list(s):\n",
    "    d = []\n",
    "    b = []\n",
    "    for i in s:\n",
    "        if (ord(i) & 31)%2 == 0:\n",
    "            d.append(0)\n",
    "        else:\n",
    "            d.append(1)\n",
    "    for j in d:\n",
    "        b.append(bool(j))\n",
    "    return f\"to_boolean_list({s}) ➞ {b}\"\n",
    "print(to_boolean_list('deep'))\n",
    "print(to_boolean_list('loves'))\n",
    "print(to_boolean_list('tesh'))"
   ]
  }
 ],
 "metadata": {
  "kernelspec": {
   "display_name": "Python 3",
   "language": "python",
   "name": "python3"
  },
  "language_info": {
   "codemirror_mode": {
    "name": "ipython",
    "version": 3
   },
   "file_extension": ".py",
   "mimetype": "text/x-python",
   "name": "python",
   "nbconvert_exporter": "python",
   "pygments_lexer": "ipython3",
   "version": "3.8.5"
  }
 },
 "nbformat": 4,
 "nbformat_minor": 4
}
