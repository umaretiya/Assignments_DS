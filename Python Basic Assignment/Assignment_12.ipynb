{
 "cells": [
  {
   "cell_type": "raw",
   "metadata": {},
   "source": [
    "1. In what modes should the PdfFileReader() and PdfFileWriter() File objects will be opened?\n",
    "Ans. For PdfFileReader() file objects should be opened in rb -> read binary mode, Whereas for PdfFileWriter() file objects          should be opened in wb -> write binary mode."
   ]
  },
  {
   "cell_type": "raw",
   "metadata": {},
   "source": [
    "2. From a PdfFileReader object, how do you get a Page object for page 5?\n",
    "Ans. PdfFileReader class provides a method called getPage(page_no) to get a page object."
   ]
  },
  {
   "cell_type": "raw",
   "metadata": {},
   "source": [
    "3. What PdfFileReader variable stores the number of pages in the PDF document?\n",
    "Ans. getNumPages() method of PdfFileReader class stores the no. of pages in a PDF document"
   ]
  },
  {
   "cell_type": "raw",
   "metadata": {},
   "source": [
    "4. If a PdfFileReader object’s PDF is encrypted with the password swordfish, what must you do before you can obtain Page          objects from it?\n",
    "Ans. If a PdfFileReader object’s PDF is encrypted with the password swordfish and you're not aware of it. first read the Pdf        using the PdfFileReader Class. PdfFileReader class provides a attribute called isEncrypted to check whether a pdf is            encrypted or not. the method returns true if a pdf is encrypted and vice versa.\n",
    "     if pdf is encrypted use the decrypt() method provided by PdfFileReader class first then try to read the contents/pages of      the pdf, else PyPDF2 will raise the following error PyPDF2.utils.PdfReadError: file has not been decrypted"
   ]
  },
  {
   "cell_type": "raw",
   "metadata": {},
   "source": [
    "5. What methods do you use to rotate a page?\n",
    "Ans. PyPDF2 Package provides 2 methods to rotate a page:\n",
    "     1. rotateClockWise() -> For Clockwise rotation\n",
    "     2. rotateCounterClockWise() -> For Counter Clockwise rotation\n",
    "     The PyPDF2 package only allows you to rotate a page in increments of 90 degrees. You will receive an AssertionError            otherwise."
   ]
  },
  {
   "cell_type": "raw",
   "metadata": {},
   "source": [
    "6. What is the difference between a Run object and a Paragraph object?\n",
    "Ans. The structure of a document is represented by three different data types in python-Docx. At the highest level, a Document object represents the entire document. The Document object contains a list of Paragraph objects for the paragraphs in the document. (A new paragraph begins whenever the user presses ENTER or RETURN while typing in a Word document.) Each of these Paragraph objects contains a list of one or more Run objects.\n",
    "\n",
    "The text in a Word document is more than just a string. It has font, size, color, and other styling information associated with it. A style in Word is a collection of these attributes. A Run object is a contiguous run of text with the same style. A new Run object is needed whenever the text style changes."
   ]
  },
  {
   "cell_type": "raw",
   "metadata": {},
   "source": [
    "7. How do you obtain a list of Paragraph objects for a Document object that’s stored in a variable named doc?\n",
    "Ans. doc.paragraphs"
   ]
  },
  {
   "cell_type": "raw",
   "metadata": {},
   "source": [
    "8. What type of object has bold, underline, italic, strike, and outline variables?\n",
    "Ans. Run type"
   ]
  },
  {
   "cell_type": "raw",
   "metadata": {},
   "source": [
    "9. What is the difference between False, True, and None for the bold variable?\n",
    "Ans. bold = True  # Style Set to Bold\n",
    "     bold = False # Style Not Set to Bold\n",
    "     bold = None # Style is Not Applicable"
   ]
  },
  {
   "cell_type": "raw",
   "metadata": {},
   "source": [
    "10. How do you create a Document object for a new Word document?\n",
    "Ans. by Using docx.Document()"
   ]
  },
  {
   "cell_type": "raw",
   "metadata": {},
   "source": [
    "11. How do you add a paragraph with the text &#39;Hello, there!&#39; to a Document object stored in a variable named doc?\n",
    "Ans. doc.add_paragraph('Hello there!')"
   ]
  },
  {
   "cell_type": "raw",
   "metadata": {},
   "source": [
    "12. What integers represent the levels of headings available in Word documents?\n",
    "Ans. 0,1,2,3, and 4"
   ]
  }
 ],
 "metadata": {
  "kernelspec": {
   "display_name": "Python 3",
   "language": "python",
   "name": "python3"
  },
  "language_info": {
   "codemirror_mode": {
    "name": "ipython",
    "version": 3
   },
   "file_extension": ".py",
   "mimetype": "text/x-python",
   "name": "python",
   "nbconvert_exporter": "python",
   "pygments_lexer": "ipython3",
   "version": "3.8.5"
  }
 },
 "nbformat": 4,
 "nbformat_minor": 4
}
