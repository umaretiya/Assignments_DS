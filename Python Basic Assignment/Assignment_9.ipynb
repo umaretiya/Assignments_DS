{
 "cells": [
  {
   "cell_type": "raw",
   "metadata": {},
   "source": [
    "1. To what does a relative path refer?\n",
    "Ans. The relative path is the path to some file with respect to your current working directory (PWD)."
   ]
  },
  {
   "cell_type": "raw",
   "metadata": {},
   "source": [
    "2. What does an absolute path start with your operating system?\n",
    "Ans. In Linux based systems the absolute path starts with /. Where as in Windows based systems absolute path starts with C:"
   ]
  },
  {
   "cell_type": "raw",
   "metadata": {},
   "source": [
    "3. What do the functions os.getcwd() and os.chdir() do?\n",
    "Ans. os.getcwd() shows the current working directory.\n",
    "     os.chdir() is used change current working directory."
   ]
  },
  {
   "cell_type": "raw",
   "metadata": {},
   "source": [
    "4. What are the . and .. folders?\n",
    "Ans. \n",
    ". folder is current folder\n",
    ".. folder is parent folder"
   ]
  },
  {
   "cell_type": "raw",
   "metadata": {},
   "source": [
    "5. In C:\\bacon\\eggs\\spam.txt, which part is the dir name, and which part is the base name?\n",
    "Ans. Dir name = C:\\bacon\\eggs\\\n",
    "     Base name = spam.txt"
   ]
  },
  {
   "cell_type": "raw",
   "metadata": {},
   "source": [
    "6. What are the three “mode” arguments that can be passed to the open() function?\n",
    "Ans.\n",
    "1. Read mode: can be passed in open function using 'r'\n",
    "2. Write mode: can be passed in open function using 'w'\n",
    "3. Append mode: can be passed in open function using 'r+'"
   ]
  },
  {
   "cell_type": "raw",
   "metadata": {},
   "source": [
    "7. What happens if an existing file is opened in write mode?\n",
    "Ans. In write mode, function will erase the data of existing file and then overwrite in same.  "
   ]
  },
  {
   "cell_type": "raw",
   "metadata": {},
   "source": [
    "8. How do you tell the difference between read() and readlines()?\n",
    "Ans. The read() method returns the file's entire contents as a single string value.\n",
    "     The readlines() method returns a list of strings, where each string is a line from the file's contents."
   ]
  },
  {
   "cell_type": "raw",
   "metadata": {},
   "source": [
    "9. What data structure does a shelf value resemble?\n",
    "Ans. it contains key and values it represents dictionary"
   ]
  }
 ],
 "metadata": {
  "kernelspec": {
   "display_name": "Python 3",
   "language": "python",
   "name": "python3"
  },
  "language_info": {
   "codemirror_mode": {
    "name": "ipython",
    "version": 3
   },
   "file_extension": ".py",
   "mimetype": "text/x-python",
   "name": "python",
   "nbconvert_exporter": "python",
   "pygments_lexer": "ipython3",
   "version": "3.8.5"
  }
 },
 "nbformat": 4,
 "nbformat_minor": 4
}
