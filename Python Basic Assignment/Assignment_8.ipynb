{
 "cells": [
  {
   "cell_type": "raw",
   "metadata": {},
   "source": [
    "1. Is the Python Standard Library included with PyInputPlus?\n",
    "Ans.  pyinputplus is not part of python standard library"
   ]
  },
  {
   "cell_type": "raw",
   "metadata": {},
   "source": [
    "2. Why is PyInputPlus commonly imported with import pyinputplus as pypi?\n",
    "Ans. So we can enter shorter name when calling the module's functions"
   ]
  },
  {
   "cell_type": "raw",
   "metadata": {},
   "source": [
    "3. How do you distinguish between inputInt() and inputFloat()?\n",
    "Ans. inputInt() is used when we need user to input an Integer as value.\n",
    "     inputFloat() is used when we need user to input an Floating point number as value."
   ]
  },
  {
   "cell_type": "code",
   "execution_count": 2,
   "metadata": {},
   "outputs": [
    {
     "name": "stdout",
     "output_type": "stream",
     "text": [
      "Enter an whole number between 0 to 99 : 100\n",
      "Number must be at maximum 99.\n",
      "Enter an whole number between 0 to 99 : -5\n",
      "Number must be at minimum 0.\n",
      "Enter an whole number between 0 to 99 : 5\n",
      "5\n"
     ]
    }
   ],
   "source": [
    "#4. Using PyInputPlus, how do you ensure that the user enters a whole number between 0 and 99?\n",
    "import pyinputplus as pypi\n",
    "n = pypi.inputInt(prompt=\"Enter an whole number between 0 to 99 : \", min=0, max=99)\n",
    "print(n)"
   ]
  },
  {
   "cell_type": "raw",
   "metadata": {},
   "source": [
    "5. What is transferred to the keyword arguments allowRegexes and blockRegexes?\n",
    "Ans. The allowRegexes and blockRegexes keyword arguments take a list of regular expression strings to determine\n",
    "      what the PyInputPlus function will accept or reject as valid input."
   ]
  },
  {
   "cell_type": "raw",
   "metadata": {},
   "source": [
    "6. If a blank input is entered three times, what does inputStr(limit=3) do?\n",
    "Ans. It raises a RetryLimitException exception."
   ]
  },
  {
   "cell_type": "raw",
   "metadata": {},
   "source": [
    "7. If blank input is entered three times, what does inputStr(limit=3, default='hello') do?\n",
    "Ans. by default 'hello' is assigned to variable."
   ]
  }
 ],
 "metadata": {
  "kernelspec": {
   "display_name": "Python 3",
   "language": "python",
   "name": "python3"
  },
  "language_info": {
   "codemirror_mode": {
    "name": "ipython",
    "version": 3
   },
   "file_extension": ".py",
   "mimetype": "text/x-python",
   "name": "python",
   "nbconvert_exporter": "python",
   "pygments_lexer": "ipython3",
   "version": "3.8.5"
  }
 },
 "nbformat": 4,
 "nbformat_minor": 4
}
