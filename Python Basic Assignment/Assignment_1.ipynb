{
 "cells": [
  {
   "cell_type": "raw",
   "id": "d1ad14e6",
   "metadata": {},
   "source": [
    "1. In the below elements which of them are values or an expression? \n",
    "   eg:- values can be integer or string and expressions will be mathematical operators. \n",
    "   ['hello',*,-87.8,-,/,+,6]\n",
    "Ans.  Values and Expression are given below\n",
    "      Values     Expression\n",
    "      -87.8          *\n",
    "      hello          -\n",
    "        6            +\n",
    "                     /\n",
    "      There are 3 Values and 4 Expression\n",
    "      \n"
   ]
  },
  {
   "cell_type": "raw",
   "id": "6bafefa0",
   "metadata": {},
   "source": [
    "2. What is the difference between string and variable?\n",
    "Ans.  String is a type of information you would store in (\"\") this .It can store Any alphabets or numbers(but as a string) \n",
    "      even combination of both. \n",
    "      Example:- \"Hello world\" , \"My age is 20 \"\n",
    "      Variable is the placed where data is store and a name has assign.\n",
    "      Example:- a = 23, b = \"wkasn\""
   ]
  },
  {
   "cell_type": "raw",
   "id": "ed07c607",
   "metadata": {},
   "source": [
    "3. Describe three different data types?\n",
    "Ans. Following are the different data types \n",
    "    1. Integer \n",
    "      Integer can be positive, negative, zero whole number without a fractional part and having unlimited precision\n",
    "      Example:- 0,10,-15\n",
    "    2. float\n",
    "      float is the type which have numbers in decimels it can be more than 1 decimel places not fraction but it will be the sum       of fraction.\n",
    "      Example:- 1.54,5.223\n",
    "    3.Complex Number \n",
    "      Complex number is represented by complex class. It is specified as (real part) + (imaginary part)j.\n",
    "      Example : 10+1.5j"
   ]
  },
  {
   "cell_type": "raw",
   "id": "708a131b",
   "metadata": {},
   "source": [
    "4. What is an expression made up of? What do all expressions do?\n",
    "Ans. An expression is a combination of values, variables, and operators. If you type an expression on the command line, the          interpreter evaluates it and displays the result.\n",
    "     Example: 5*6+73-2 = 101\n",
    "     "
   ]
  },
  {
   "cell_type": "raw",
   "id": "d1cc2757",
   "metadata": {},
   "source": [
    "5. This assignment statements, like spam = 10. What is the difference between an expression and a statement?\n",
    "Ans.  An expression is a combination of values, variables, and operators.When we type an expression at the prompt, the interpreter evaluates it, which means that it finds the value of the expression.\n",
    "\n",
    "Example: 4*5+20-40 is an example of a statement\n",
    "\n",
    "A statement is a unit of code that has an effect, like creating a variable or displaying a value.When we type a statement, the interpreter executes it, which means that it does whatever the statement says. In general, statements don’t have values.\n",
    "\n",
    "Example: variable declaration and assignment are statements because they do not return a value"
   ]
  },
  {
   "cell_type": "code",
   "execution_count": 12,
   "id": "95916274",
   "metadata": {},
   "outputs": [
    {
     "name": "stdout",
     "output_type": "stream",
     "text": [
      "Hello World !\n"
     ]
    }
   ],
   "source": [
    "13*68/32-10 # Is a Expression\n",
    "courseName = 'FullStack DataScience' # Is a Statement\n",
    "print(\"Hello World !\") # Is a Expression Statement"
   ]
  },
  {
   "cell_type": "raw",
   "id": "0115e107",
   "metadata": {},
   "source": [
    "6. After running the following code, what does the variable bacon contain?\n",
    "   bacon = 22\n",
    "   bacon + 1. \n",
    "Ans. Variable bacon contain 22.   "
   ]
  },
  {
   "cell_type": "raw",
   "id": "712ef878",
   "metadata": {},
   "source": [
    "7. What should the values of the following two terms be?\n",
    "   'spam' + 'spamspam'\n",
    "   'spam' * 3\n",
    "Ans. Both expressions evaluate to the string 'spamspamspam' Where as the first expression follows String Concatentation and the      second expression follows String Multiplication "
   ]
  },
  {
   "cell_type": "code",
   "execution_count": 13,
   "id": "53961466",
   "metadata": {},
   "outputs": [
    {
     "name": "stdout",
     "output_type": "stream",
     "text": [
      "spamspamspam\n",
      "spamspamspam\n"
     ]
    }
   ],
   "source": [
    "print(\"spam\" + \"spamspam\")\n",
    "print(\"spam\"*3)"
   ]
  },
  {
   "cell_type": "raw",
   "id": "590e46f8",
   "metadata": {},
   "source": [
    "8. Why is eggs a valid variable name while 100 is invalid?\n",
    "Ans In Python the variable name cannot be start with number.It can be Alphabets or underscore(_)    "
   ]
  },
  {
   "cell_type": "code",
   "execution_count": 14,
   "id": "497be1cc",
   "metadata": {},
   "outputs": [
    {
     "ename": "SyntaxError",
     "evalue": "cannot assign to literal (TEMP/ipykernel_5408/3708516037.py, line 2)",
     "output_type": "error",
     "traceback": [
      "\u001b[1;36m  File \u001b[1;32m\"C:\\Windows\\TEMP/ipykernel_5408/3708516037.py\"\u001b[1;36m, line \u001b[1;32m2\u001b[0m\n\u001b[1;33m    100 = Ineuron\u001b[0m\n\u001b[1;37m    ^\u001b[0m\n\u001b[1;31mSyntaxError\u001b[0m\u001b[1;31m:\u001b[0m cannot assign to literal\n"
     ]
    }
   ],
   "source": [
    "eggs = INeuron\n",
    "100 = Ineuron\n",
    "print(eggs)\n",
    "print(100)"
   ]
  },
  {
   "cell_type": "raw",
   "id": "ca674a61",
   "metadata": {},
   "source": [
    "As seen it throws the SyntaxError"
   ]
  },
  {
   "cell_type": "raw",
   "id": "35a74c60",
   "metadata": {},
   "source": [
    "9. What three functions can be used to get the integer, floating-point number, or string version of a value?\n",
    "Ans. int() , float(), str() are for integer,floating-point number and string respectively."
   ]
  },
  {
   "cell_type": "code",
   "execution_count": 15,
   "id": "054c958e",
   "metadata": {},
   "outputs": [
    {
     "name": "stdout",
     "output_type": "stream",
     "text": [
      "23 <class 'int'>\n",
      "23.0 <class 'float'>\n",
      "23 <class 'str'>\n"
     ]
    }
   ],
   "source": [
    "#Example\n",
    "a = int(23)\n",
    "b = float(23)\n",
    "c = str(23)\n",
    "print(a ,type(a))\n",
    "print(b,type(b))\n",
    "print(c,type(c))"
   ]
  },
  {
   "cell_type": "raw",
   "id": "782fe356",
   "metadata": {},
   "source": [
    "10. Why does this expression cause an error? How can you fix it?\n",
    "    'I have eaten' + 99 +'burritos.'\n",
    "Ans. As 99 is not a string its a integer. To fix this we have to convert integer to string with str()."
   ]
  },
  {
   "cell_type": "code",
   "execution_count": 16,
   "id": "ec64b4a3",
   "metadata": {},
   "outputs": [
    {
     "name": "stdout",
     "output_type": "stream",
     "text": [
      "I have eaten 99 burritos\n"
     ]
    }
   ],
   "source": [
    "print('I have eaten '+str(99)+' burritos')"
   ]
  },
  {
   "cell_type": "raw",
   "id": "17cd0db4",
   "metadata": {},
   "source": []
  }
 ],
 "metadata": {
  "kernelspec": {
   "display_name": "Python 3 (ipykernel)",
   "language": "python",
   "name": "python3"
  },
  "language_info": {
   "codemirror_mode": {
    "name": "ipython",
    "version": 3
   },
   "file_extension": ".py",
   "mimetype": "text/x-python",
   "name": "python",
   "nbconvert_exporter": "python",
   "pygments_lexer": "ipython3",
   "version": "3.9.7"
  }
 },
 "nbformat": 4,
 "nbformat_minor": 5
}
