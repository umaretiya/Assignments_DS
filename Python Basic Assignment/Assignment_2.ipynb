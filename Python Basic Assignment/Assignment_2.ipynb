{
 "cells": [
  {
   "cell_type": "raw",
   "id": "2d6d12aa",
   "metadata": {},
   "source": [
    "1.  What are the two values of the Boolean data type? How do you write them?\n",
    "Ans. There are two types of values of Boolean data types\n",
    "    1. True\n",
    "    2. False\n",
    "    First letter should be Capital for both.    "
   ]
  },
  {
   "cell_type": "raw",
   "id": "93fa1291",
   "metadata": {},
   "source": [
    "2. What are the three different types of Boolean operators?\n",
    "Ans. The three different types of Boolean operators are \n",
    "   1. And\n",
    "   2. or\n",
    "   3. Not\n",
    "      And :- Both of the statement must be right for O/P True or it will be False\n",
    "      Or  :- Any one of the statement is right it will print True ,if both are right then still it will be True\n",
    "      Not :- If statement is right it will be False or vice-versa\n",
    "   "
   ]
  },
  {
   "cell_type": "raw",
   "id": "05b2a8eb",
   "metadata": {},
   "source": [
    "3. Make a list of each Boolean operator truth tables (i.e. every possible combination of Boolean values for the operator and      what it evaluate )?\n",
    "Ans. Truth table of \"AND\" Operator :-\n",
    "       TRUE And TRUE   is TRUE\n",
    "       TRUE And FALSE  is FALSE\n",
    "       FALSE And TRUE  is FALSE\n",
    "       FALSE And FALSE is FALSE\n",
    "     \n",
    "     Truth table of \"OR\" Operator :-\n",
    "       TRUE Or TRUE   is TRUE\n",
    "       TRUE Or FALSE  is TRUE\n",
    "       FALSE Or TRUE  is TRUE\n",
    "       FALSE Or FALSE is TRUE\n",
    "       \n",
    "     Truth table of \"NOT\" Operator :-\n",
    "       TRUE Not is FALSE\n",
    "       FALSE Not is TRUE"
   ]
  },
  {
   "cell_type": "raw",
   "id": "fb66507c",
   "metadata": {},
   "source": [
    "4. What are the values of the following expressions?\n",
    "   (5 > 4) and (3 == 5)                -> FALSE\n",
    "   not (5 > 4)                         -> FALSE\n",
    "   (5 > 4) or (3 == 5)                 -> TRUE\n",
    "   not ((5 > 4) or (3 == 5))           -> FALSE\n",
    "   (True and True) and (True == False) -> FALSE\n",
    "   (not False) or (not True)           -> TRUE\n",
    "   "
   ]
  },
  {
   "cell_type": "raw",
   "id": "5154cd8f",
   "metadata": {},
   "source": [
    "5. What are the six comparison operators?\n",
    "Ans. The six comparison operators are :-\n",
    "    1. ==\n",
    "    2. !=\n",
    "    3. >=\n",
    "    4. <=\n",
    "    5. <\n",
    "    6. >"
   ]
  },
  {
   "cell_type": "raw",
   "id": "5df8b525",
   "metadata": {},
   "source": [
    "6. How do you tell the difference between the equal to and assignment operators? Describe a condition and when you would use      one?\n",
    "Ans. \"=\" this sign is for equal to ,it is use to assign the value to variable\n",
    "     \"==\" this is one of comparison operators it is use for compare the value\n",
    "     a = 3 is a equal to \n",
    "     a == 3 is the comparison to check the value is true or not"
   ]
  },
  {
   "cell_type": "raw",
   "id": "6c5342d9",
   "metadata": {},
   "source": [
    "7. Identify the three blocks in this code:\n",
    "   spam = 0\n",
    "   if spam == 10:          Block 1\n",
    "      print(\"eggs\")\n",
    "   if spam > 5:            Block 2\n",
    "      print(\"bacon\")\n",
    "   else:                   Block 3\n",
    "      print(\"ham\")\n",
    "      print(\"spam\")\n",
    "      print(\"spam\")"
   ]
  },
  {
   "cell_type": "code",
   "execution_count": 3,
   "id": "8c1ef9b5",
   "metadata": {},
   "outputs": [
    {
     "name": "stdout",
     "output_type": "stream",
     "text": [
      "Hello\n",
      "Howdy\n",
      "Greetings!\n"
     ]
    }
   ],
   "source": [
    "#8. Write code that prints Hello if 1 is stored in spam, prints Howdy if 2 is stored in spam, and prints Greetings! if anything\n",
    "#   else is stored in spam.\n",
    "def spam(num):\n",
    "    if num == 1:\n",
    "        print(\"Hello\")\n",
    "    elif num == 2:\n",
    "        print(\"Howdy\")\n",
    "    else:\n",
    "        print(\"Greetings!\")\n",
    "spam(1)\n",
    "spam(2)\n",
    "spam(5)"
   ]
  },
  {
   "cell_type": "raw",
   "id": "fd41ab66",
   "metadata": {},
   "source": [
    "9. If your programme is stuck in an endless loop, what keys you’ll press?\n",
    "Ans. To stop the program in loop use combination of two keys (Ctrl+C).  "
   ]
  },
  {
   "cell_type": "raw",
   "id": "fd95b82c",
   "metadata": {},
   "source": [
    "10. How can you tell the difference between break and continue?\n",
    "Ans. If the statement is right then the break will stop the loop and leave it, Where as countinue will start the loop again."
   ]
  },
  {
   "cell_type": "raw",
   "id": "3c964800",
   "metadata": {},
   "source": [
    "11. In a for loop, what is the difference between range(10), range(0, 10), and range(0, 10, 1)?\n",
    "Ans. range(10) will print 0 to 9\n",
    "     range(0,10) will start the number from 0  to 10 but it will not print 10 \n",
    "     range(0,10,1) it tells to start with 0 to 10 with 1 increase varaible"
   ]
  },
  {
   "cell_type": "code",
   "execution_count": 21,
   "id": "9285199a",
   "metadata": {},
   "outputs": [
    {
     "name": "stdout",
     "output_type": "stream",
     "text": [
      "# With For Loop\n",
      "0 1 2 3 4 5 6 7 8 9 10 \n",
      "# With While Loop\n",
      "0 1 2 3 4 5 6 7 8 9 10 "
     ]
    }
   ],
   "source": [
    "#12. Write a short program that prints the numbers 1 to 10 using a for loop. Then write an equivalent program that prints \n",
    "#the numbers 1 to 10 using a while loop.\n",
    "\n",
    "print(\"# With For Loop\")\n",
    "for i in range(0,11):\n",
    "    print(i,end=\" \")\n",
    "    \n",
    "print(\"\")    \n",
    "print(\"# With While Loop\")\n",
    "s = 0\n",
    "while s <= 10:\n",
    "    print(s,end=\" \")\n",
    "    s += 1"
   ]
  },
  {
   "cell_type": "raw",
   "id": "ea84e6e6",
   "metadata": {},
   "source": [
    "13.If you had a function named bacon() inside a module named spam, how would you call it after importing spam?\n",
    "Ans. If \"import spam\" then we have to use spam.bacon()\n",
    "     or if \"form spam import *\" then we can use spam.bacon() or directly bacon()"
   ]
  }
 ],
 "metadata": {
  "kernelspec": {
   "display_name": "Python 3 (ipykernel)",
   "language": "python",
   "name": "python3"
  },
  "language_info": {
   "codemirror_mode": {
    "name": "ipython",
    "version": 3
   },
   "file_extension": ".py",
   "mimetype": "text/x-python",
   "name": "python",
   "nbconvert_exporter": "python",
   "pygments_lexer": "ipython3",
   "version": "3.9.7"
  }
 },
 "nbformat": 4,
 "nbformat_minor": 5
}
