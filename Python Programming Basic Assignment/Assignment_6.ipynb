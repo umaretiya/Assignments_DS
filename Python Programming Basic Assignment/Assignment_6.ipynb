{
 "cells": [
  {
   "cell_type": "code",
   "execution_count": 2,
   "metadata": {},
   "outputs": [
    {
     "name": "stdout",
     "output_type": "stream",
     "text": [
      "Fibonacci sequence:\n",
      "0 1 1 2 3 5 8 13 21 34 55 89 144 233 377 610 987 1597 2584 4181 "
     ]
    }
   ],
   "source": [
    "#1. Write a Python Program to Display Fibonacci Sequence Using Recursion?\n",
    "def f(n):\n",
    "    if n <= 1:\n",
    "        return n\n",
    "    else:\n",
    "        return(f(n-1) + f(n-2))\n",
    "\n",
    "nt = 20\n",
    "\n",
    "# check if the number of terms is valid\n",
    "if nt <= 0:\n",
    "   print(\"Plese enter a positive integer\")\n",
    "else:\n",
    "   print(\"Fibonacci sequence:\")\n",
    "   for i in range(nt):\n",
    "       print(f(i),end=\" \")"
   ]
  },
  {
   "cell_type": "code",
   "execution_count": 6,
   "metadata": {},
   "outputs": [
    {
     "name": "stdout",
     "output_type": "stream",
     "text": [
      "Enter value : 5\n",
      "Factorial of 5 is 120\n"
     ]
    }
   ],
   "source": [
    "#2. Write a Python Program to Find Factorial of Number Using Recursion?\n",
    "def fac(num):\n",
    "    if num == 1:\n",
    "        return num\n",
    "    else:\n",
    "        value = num*fac(num-1)\n",
    "        return value\n",
    "num = int(input(\"Enter value : \"))\n",
    "print(f'Factorial of {num} is {fac(num)}')"
   ]
  },
  {
   "cell_type": "code",
   "execution_count": 11,
   "metadata": {},
   "outputs": [
    {
     "name": "stdout",
     "output_type": "stream",
     "text": [
      "Enter mass in (Kg) : 70\n",
      "Enter height in (m) : 1.7\n",
      "Your BMI is 24.22 and status is Normal Range\n"
     ]
    }
   ],
   "source": [
    "#3. Write a Python Program to calculate your Body Mass Index?\n",
    "def BMI():\n",
    "    mass = int(input(\"Enter mass in (Kg) : \"))\n",
    "    height = float(input(\"Enter height in (m) : \"))\n",
    "    bmi = mass/height**2\n",
    "    if bmi < 18.5:\n",
    "        status = \"Underweight\"\n",
    "    elif bmi > 18.5 and bmi < 25:\n",
    "        status = \"Normal Range\"\n",
    "    elif bmi > 25 and bmi < 30:\n",
    "        status = \"Overweight\"\n",
    "    elif bmi > 30:\n",
    "        status = \"Obese\"\n",
    "    print(f\"Your BMI is {round(bmi,2)} and status is {status}\")\n",
    "BMI()"
   ]
  },
  {
   "cell_type": "code",
   "execution_count": 12,
   "metadata": {},
   "outputs": [
    {
     "name": "stdout",
     "output_type": "stream",
     "text": [
      "Enter Number : 32\n",
      "Natural Logarithm of 32 is 3.466\n"
     ]
    }
   ],
   "source": [
    "#4. Write a Python Program to calculate the natural logarithm of any number?\n",
    "import math\n",
    "num = int(input(\"Enter Number : \"))\n",
    "value = math.log(num)\n",
    "print(f\"Natural Logarithm of {num} is {round(value,3)}\")"
   ]
  },
  {
   "cell_type": "code",
   "execution_count": 26,
   "metadata": {},
   "outputs": [
    {
     "name": "stdout",
     "output_type": "stream",
     "text": [
      "Enter Numbers : 3\n",
      "The cube sum of 3 is 36.0\n"
     ]
    }
   ],
   "source": [
    "#5. Write a Python Program for cube sum of first n natural numbers?\n",
    "def NaSu(num):\n",
    "    value = pow(num *  (num+1)/2,2)\n",
    "    print(f\"The cube sum of {num} is {value}\")\n",
    "num = int(input(\"Enter Numbers : \"))\n",
    "NaSu(num)"
   ]
  }
 ],
 "metadata": {
  "kernelspec": {
   "display_name": "Python 3",
   "language": "python",
   "name": "python3"
  },
  "language_info": {
   "codemirror_mode": {
    "name": "ipython",
    "version": 3
   },
   "file_extension": ".py",
   "mimetype": "text/x-python",
   "name": "python",
   "nbconvert_exporter": "python",
   "pygments_lexer": "ipython3",
   "version": "3.8.5"
  }
 },
 "nbformat": 4,
 "nbformat_minor": 4
}
