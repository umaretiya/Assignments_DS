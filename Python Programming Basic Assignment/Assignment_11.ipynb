{
 "cells": [
  {
   "cell_type": "code",
   "execution_count": 7,
   "metadata": {},
   "outputs": [
    {
     "name": "stdout",
     "output_type": "stream",
     "text": [
      "Enter String : Write a Python program to find words which are greater than given length k\n",
      "Enter length : 3\n",
      "['Write', 'Python', 'program', 'find', 'words', 'which', 'greater', 'than', 'given', 'length']\n"
     ]
    }
   ],
   "source": [
    "#1. Write a Python program to find words which are greater than given length k?\n",
    "def check_len():\n",
    "    string = str(input(\"Enter String : \"))\n",
    "    length = input(\"Enter length : \")\n",
    "    f = []\n",
    "    for st in string.split():\n",
    "        if int(length) < len(st):\n",
    "            f.append(st)\n",
    "        else:\n",
    "            pass\n",
    "    print(f)\n",
    "\n",
    "check_len()"
   ]
  },
  {
   "cell_type": "code",
   "execution_count": 13,
   "metadata": {},
   "outputs": [
    {
     "name": "stdout",
     "output_type": "stream",
     "text": [
      "Enter the String: Charater\n",
      "Enter the ith Character: 4\n",
      "Charter\n"
     ]
    }
   ],
   "source": [
    "#2. Write a Python program for removing i-th character from a string?\n",
    "def removeCharacter():\n",
    "    in_string = input(\"Enter the String: \")\n",
    "    in_char_num = int(input(\"Enter the ith Character: \"))\n",
    "    out_string = ''\n",
    "    for ele in range(len(in_string)):\n",
    "        if ele != in_char_num:\n",
    "            out_string = out_string + in_string[ele]\n",
    "    print(out_string)\n",
    "    \n",
    "removeCharacter()"
   ]
  },
  {
   "cell_type": "code",
   "execution_count": 14,
   "metadata": {},
   "outputs": [
    {
     "name": "stdout",
     "output_type": "stream",
     "text": [
      "Enter the string: Write a Python program to split and join a string\n",
      "Split String: ['Write', 'a', 'Python', 'program', 'to', 'split', 'and', 'join', 'a', 'string']\n",
      "Join String: Write a Python program to split and join a string\n"
     ]
    }
   ],
   "source": [
    "#3. Write a Python program to split and join a string?\n",
    "def splitJoinString():\n",
    "    in_string = input('Enter the string: ')\n",
    "    print(f\"Split String: {in_string.split(' ')}\")\n",
    "    print(f\"Join String: {' '.join(in_string.split(' '))}\")\n",
    "\n",
    "splitJoinString()"
   ]
  },
  {
   "cell_type": "code",
   "execution_count": 15,
   "metadata": {},
   "outputs": [
    {
     "name": "stdout",
     "output_type": "stream",
     "text": [
      "Enter the string: 1325\n",
      "1325 is not a binart string\n",
      "Enter the string: 10110\n",
      "10110 is a binary string\n"
     ]
    }
   ],
   "source": [
    "#4. Write a Python to check if a given string is binary string or not?\n",
    "def checkBinary():\n",
    "    in_string = input('Enter the string: ')\n",
    "    stun = 0\n",
    "    for ele in in_string:\n",
    "        if ele in ['0','1']:\n",
    "            stun = 1\n",
    "            continue\n",
    "        else:\n",
    "            stun = 0\n",
    "            break\n",
    "    statement = 'is a binary string' if stun == 1 else 'is not a binart string' \n",
    "    print(f'{in_string} {statement}')\n",
    "\n",
    "checkBinary()\n",
    "checkBinary()"
   ]
  },
  {
   "cell_type": "code",
   "execution_count": 17,
   "metadata": {},
   "outputs": [
    {
     "name": "stdout",
     "output_type": "stream",
     "text": [
      "Enter the string a : Write a Python to find all duplicate characters in string?\n",
      "Enter the string b : Write a Python program to find uncommon words from two Strings?\n",
      "The list of uncommon words :  all duplicate characters in string? program uncommon words from two strings?\n"
     ]
    }
   ],
   "source": [
    "#5. Write a Python program to find uncommon words from two Strings?\n",
    "def unCommon(a,b):\n",
    "    list_a = a.split()\n",
    "    list_b = b.split()\n",
    "    x =''\n",
    "    \n",
    "    for i in list_a:\n",
    "        if i not in list_b:\n",
    "            x = x +\" \"+ i\n",
    "    for j in list_b:\n",
    "        if j not in list_a:\n",
    "            x = x +\" \"+ j\n",
    "    return x\n",
    "\n",
    "a = input(\"Enter the string a : \").lower()\n",
    "b = input(\"Enter the string b : \").lower()\n",
    "\n",
    "print(f\"The list of uncommon words : {unCommon(a,b)}\")  "
   ]
  },
  {
   "cell_type": "code",
   "execution_count": 18,
   "metadata": {},
   "outputs": [
    {
     "name": "stdout",
     "output_type": "stream",
     "text": [
      "Enter the string: full stack data science course\n",
      "Duplicate characters are: ['e', 'u', 'a', 'c', 's', ' ', 'l', 't']\n"
     ]
    }
   ],
   "source": [
    "#6. Write a Python to find all duplicate characters in string?\n",
    "def duplicateChars():\n",
    "    in_string = input('Enter the string: ')\n",
    "    non_duplicate_list = []\n",
    "    duplicate_list = []\n",
    "    for ele in in_string:\n",
    "        if ele not in non_duplicate_list:\n",
    "            non_duplicate_list.append(ele)\n",
    "        else:\n",
    "            duplicate_list.append(ele)\n",
    "    print(f'Duplicate characters are: {list(set(duplicate_list))}')\n",
    "        \n",
    "duplicateChars()"
   ]
  },
  {
   "cell_type": "code",
   "execution_count": 19,
   "metadata": {},
   "outputs": [
    {
     "name": "stdout",
     "output_type": "stream",
     "text": [
      "Enter the string: DS @ Ineuron by Sudhanshu & krish\n",
      "There are 2 Speical Characters in DS @ Ineuron by Sudhanshu & krish which are ['@', '&']\n",
      "Enter the string: Brotherhood\n",
      "There are 0 Speical Characters in Brotherhood which are []\n"
     ]
    }
   ],
   "source": [
    "#7. Write a Python Program to check if a string contains any special character?\n",
    "def checkSpecialChar():\n",
    "    spl_chars = '[@_!#$%^&*()<>?/\\|}{~:]'\n",
    "    in_num = input('Enter the string: ')\n",
    "    count = 0\n",
    "    char_list = []\n",
    "    for ele in in_num:\n",
    "        if ele in spl_chars:\n",
    "            char_list.append(ele)\n",
    "            count = count+1\n",
    "    print(f'There are {count} Speical Characters in {in_num} which are {char_list}')\n",
    "            \n",
    "        \n",
    "checkSpecialChar()\n",
    "checkSpecialChar()"
   ]
  }
 ],
 "metadata": {
  "kernelspec": {
   "display_name": "Python 3",
   "language": "python",
   "name": "python3"
  },
  "language_info": {
   "codemirror_mode": {
    "name": "ipython",
    "version": 3
   },
   "file_extension": ".py",
   "mimetype": "text/x-python",
   "name": "python",
   "nbconvert_exporter": "python",
   "pygments_lexer": "ipython3",
   "version": "3.8.5"
  }
 },
 "nbformat": 4,
 "nbformat_minor": 4
}
