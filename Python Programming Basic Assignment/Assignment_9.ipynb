{
 "cells": [
  {
   "cell_type": "code",
   "execution_count": 4,
   "metadata": {},
   "outputs": [
    {
     "name": "stdout",
     "output_type": "stream",
     "text": [
      "175 is Disarium Number\n",
      "89 is Disarium Number\n",
      "102 is Not Disarium Number\n"
     ]
    }
   ],
   "source": [
    "#1. Write a Python program to check if the given number is a Disarium Number?\n",
    "def dis_no(n):\n",
    "    s = str(n)\n",
    "    s.split()\n",
    "    l = []\n",
    "    for i in range(0,len(s)):\n",
    "        p = pow(int(s[i]),i+1) \n",
    "        l.append(p)\n",
    "    if sum(l) == n:\n",
    "        print(f\"{n} is Disarium Number\")\n",
    "    else:\n",
    "        print(f\"{n} is Not Disarium Number\")\n",
    "\n",
    "dis_no(175)\n",
    "dis_no(89)\n",
    "dis_no(102)"
   ]
  },
  {
   "cell_type": "code",
   "execution_count": 28,
   "metadata": {},
   "outputs": [
    {
     "name": "stdout",
     "output_type": "stream",
     "text": [
      "[1, 2, 3, 4, 5, 6, 7, 8, 9, 89]\n"
     ]
    }
   ],
   "source": [
    "#2. Write a Python program to print all disarium numbers between 1 to 100?\n",
    "def dis_no(n):\n",
    "    s = str(n)\n",
    "    s.split()\n",
    "    l = []\n",
    "    for i in range(0,len(s)):\n",
    "        p = pow(int(s[i]),i+1) \n",
    "        l.append(p)\n",
    "    if sum(l) == n:\n",
    "        f.append(n)\n",
    "f = []      \n",
    "for i in range(1,101):\n",
    "    dis_no(i)\n",
    "print(f)"
   ]
  },
  {
   "cell_type": "code",
   "execution_count": 29,
   "metadata": {},
   "outputs": [
    {
     "name": "stdout",
     "output_type": "stream",
     "text": [
      "82 is a happy number\n"
     ]
    }
   ],
   "source": [
    "#3. Write a Python program to check if the given number is Happy Number?\n",
    "def isHappyNumber(num):    \n",
    "    rem = sum = 0;       \n",
    "    while(num > 0):    \n",
    "        rem = num%10;    \n",
    "        sum = sum + (rem*rem);    \n",
    "        num = num//10;    \n",
    "    return sum;    \n",
    "        \n",
    "num = 82;    \n",
    "result = num;    \n",
    "     \n",
    "while(result != 1 and result != 4):    \n",
    "    result = isHappyNumber(result);    \n",
    "         \n",
    "if(result == 1):    \n",
    "    print(str(num) + \" is a happy number\");   \n",
    "elif(result == 4):    \n",
    "    print(str(num) + \" is not a happy number\");   "
   ]
  },
  {
   "cell_type": "code",
   "execution_count": 32,
   "metadata": {},
   "outputs": [
    {
     "name": "stdout",
     "output_type": "stream",
     "text": [
      "List of happy numbers between 1 and 100: \n",
      "1 7 10 13 19 23 28 31 32 44 49 68 70 79 82 86 91 94 97 100 "
     ]
    }
   ],
   "source": [
    "#4. Write a Python program to print all happy numbers between 1 and 100?\n",
    "def isHappyNumber(num):  \n",
    "    rem = sum = 0;  \n",
    "    while(num > 0):  \n",
    "        rem = num%10;  \n",
    "        sum = sum + (rem*rem);  \n",
    "        num = num//10;  \n",
    "    return sum;  \n",
    "            \n",
    "print(\"List of happy numbers between 1 and 100: \");  \n",
    "for i in range(1, 101):  \n",
    "    result = i;  \n",
    "    while(result != 1 and result != 4):  \n",
    "        result = isHappyNumber(result);  \n",
    "      \n",
    "    if(result == 1):  \n",
    "        print(i,end=\" \")  "
   ]
  },
  {
   "cell_type": "code",
   "execution_count": 33,
   "metadata": {},
   "outputs": [
    {
     "name": "stdout",
     "output_type": "stream",
     "text": [
      "156 is a harshad number\n"
     ]
    }
   ],
   "source": [
    "#5. Write a Python program to determine whether the given number is a Harshad Number?\n",
    "num = 156\n",
    "rem = sum = 0    \n",
    "n = num;    \n",
    "         \n",
    "while(num > 0):    \n",
    "    rem = num%10;    \n",
    "    sum = sum + rem;    \n",
    "    num = num//10;    \n",
    "       \n",
    "if(n%sum == 0):    \n",
    "    print(str(n) + \" is a harshad number\");    \n",
    "else:    \n",
    "    print(str(n) + \" is not a harshad number\");  "
   ]
  },
  {
   "cell_type": "code",
   "execution_count": 37,
   "metadata": {},
   "outputs": [
    {
     "name": "stdout",
     "output_type": "stream",
     "text": [
      "\n",
      "The List of Harshad Numbers from {1} and {100}\n",
      "1 2 3 4 5 6 7 8 9 10 12 18 20 21 24 27 30 36 40 42 45 48 50 54 60 63 70 72 80 81 84 90 100 "
     ]
    }
   ],
   "source": [
    "#6.Write a Python program to print all pronic numbers between 1 and 100?\n",
    "def digitsSum(Number):\n",
    "    Sum = rem = 0\n",
    "    while Number > 0:\n",
    "        rem = Number % 10\n",
    "        Sum = Sum + rem\n",
    "        Number = Number // 10\n",
    "    return Sum\n",
    "\n",
    "print(\"\\nThe List of Harshad Numbers from {1} and {100}\") \n",
    "for i in range(1, 100 + 1):\n",
    "    Sum = digitsSum(i)\n",
    "    if i % Sum == 0:\n",
    "        print(i, end = ' ')"
   ]
  }
 ],
 "metadata": {
  "kernelspec": {
   "display_name": "Python 3",
   "language": "python",
   "name": "python3"
  },
  "language_info": {
   "codemirror_mode": {
    "name": "ipython",
    "version": 3
   },
   "file_extension": ".py",
   "mimetype": "text/x-python",
   "name": "python",
   "nbconvert_exporter": "python",
   "pygments_lexer": "ipython3",
   "version": "3.8.5"
  }
 },
 "nbformat": 4,
 "nbformat_minor": 4
}
