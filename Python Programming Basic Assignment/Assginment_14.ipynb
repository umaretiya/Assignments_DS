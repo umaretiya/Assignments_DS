{
 "cells": [
  {
   "cell_type": "code",
   "execution_count": 2,
   "metadata": {},
   "outputs": [
    {
     "name": "stdout",
     "output_type": "stream",
     "text": [
      "0 7 14 21 28 35 42 49 56 63 70 77 84 91 98 105 112 119 126 133 140 147 154 161 168 175 182 189 196 203 210 217 224 231 238 245 252 259 266 273 280 287 294 301 308 315 322 329 336 343 350 357 364 371 378 385 392 399 406 413 420 427 434 441 448 455 "
     ]
    }
   ],
   "source": [
    "\"\"\"Question 1: Define a class with a generator which can iterate the numbers, which are divisible by 7, between a given \n",
    "   range 0 and n.\n",
    "\"\"\"\n",
    "class num_generator:\n",
    "    def __init__(self,num):\n",
    "        self.num = num\n",
    "        \n",
    "    def gen(self):\n",
    "        for i in range(0,self.num):\n",
    "            if i%7 == 0:\n",
    "                yield i\n",
    "                \n",
    "num = num_generator(457)\n",
    "for i in num.gen():\n",
    "    print(i,end=\" \")"
   ]
  },
  {
   "cell_type": "code",
   "execution_count": 12,
   "metadata": {},
   "outputs": [
    {
     "name": "stdout",
     "output_type": "stream",
     "text": [
      "2:2 3:1 3?:1 and:1 between:1 choosing:1 new:1 or:2 python:5 read:1 to:1 "
     ]
    }
   ],
   "source": [
    "\"\"\"\n",
    "Question 2:\n",
    "Write a program to compute the frequency of the words from the input. The output\n",
    "should output after sorting the key alphanumerically.\n",
    "Suppose the following input is supplied to the program:\n",
    "New to Python or choosing between Python 2 and Python 3? Read Python 2 or Python 3.\n",
    "\"\"\"\n",
    "\n",
    "s = \"New to Python or choosing between Python 2 and Python 3? Read Python 2 or Python 3\"\n",
    "ss = s.lower()\n",
    "s2 = ss.split(\" \")\n",
    "f = {}\n",
    "for i in range(0,len(s2)):\n",
    "    if s2[i] not in f:\n",
    "        f[s2[i]] = 1\n",
    "    else:\n",
    "        f[s2[i]] += 1\n",
    "for ele in sorted(f):\n",
    "    print(f'{ele}:{f[ele]}',end=\" \")\n",
    "        "
   ]
  },
  {
   "cell_type": "code",
   "execution_count": 15,
   "metadata": {},
   "outputs": [
    {
     "name": "stdout",
     "output_type": "stream",
     "text": [
      "Male\n",
      "Female\n"
     ]
    }
   ],
   "source": [
    "\"\"\"\n",
    "Question 3:\n",
    "Define a class Person and its two child classes: Male and Female. All classes have a\n",
    "method 'getGender' which can print 'Male' for Male class and 'Female' for Female\n",
    "class.\n",
    "\"\"\"\n",
    "class Person:\n",
    "    def get_gender():\n",
    "        pass\n",
    "class Male(Person):\n",
    "    def get_gender():\n",
    "        return \"Male\"\n",
    "class Female(Person):\n",
    "    def get_gender():\n",
    "        return \"Female\"\n",
    "    \n",
    "m = Male.get_gender()\n",
    "print(m)\n",
    "f = Female.get_gender()\n",
    "print(f)"
   ]
  },
  {
   "cell_type": "code",
   "execution_count": 16,
   "metadata": {},
   "outputs": [
    {
     "name": "stdout",
     "output_type": "stream",
     "text": [
      "I Play Hockey\n",
      "I Play Football\n",
      "I Love Hockey\n",
      "I Love Football\n",
      "You Play Hockey\n",
      "You Play Football\n",
      "You Love Hockey\n",
      "You Love Football\n"
     ]
    }
   ],
   "source": [
    "\"\"\"\n",
    "Question 4:\n",
    "Please write a program to generate all sentences where subject is in ['I', 'You'] and\n",
    "verb is in ['Play', 'Love'] and the object is in ['Hockey','Football'].\n",
    "\"\"\"\n",
    "s = ['I', 'You']\n",
    "v = ['Play', 'Love']\n",
    "o = ['Hockey','Football']\n",
    "for i in s:\n",
    "    for j in v:\n",
    "        for k in o:\n",
    "            print(f\"{i} {j} {k}\")"
   ]
  },
  {
   "cell_type": "code",
   "execution_count": 22,
   "metadata": {},
   "outputs": [
    {
     "name": "stdout",
     "output_type": "stream",
     "text": [
      "b'x\\x9c\\xcbH\\xcd\\xc9\\xc9W(\\xcf/\\xcaIQ\\xcc \\x82\\r\\x00\\xbd[\\x11\\xf5'\n",
      "b'hello world!hello world!hello world!hello world!'\n"
     ]
    }
   ],
   "source": [
    "\"\"\"\n",
    "Question 5:\n",
    "Please write a program to compress and decompress the string 'hello world!hello world!hello world!hello world!'.\n",
    "\"\"\"\n",
    "s = 'hello world!hello world!hello world!hello world!'\n",
    "y = bytes(s, 'utf-8')\n",
    "x = zlib.compress(y)\n",
    "print(x)\n",
    "print(zlib.decompress(x))"
   ]
  },
  {
   "cell_type": "code",
   "execution_count": 8,
   "metadata": {},
   "outputs": [
    {
     "name": "stdout",
     "output_type": "stream",
     "text": [
      "0\n"
     ]
    }
   ],
   "source": [
    "\"\"\"\n",
    "Question 6:\n",
    "Please write a binary search function which searches an item in a sorted list. The\n",
    "function should return the index of element to be searched in the list.\n",
    "\"\"\"\n",
    "pos = 0\n",
    "def binary_search(lists,num):\n",
    "    l = 0\n",
    "    u = len(lists)-1\n",
    "    while l <=u:\n",
    "        mid = (l+u)//2\n",
    "        if lists[mid] == num:\n",
    "            globals() ['pos'] = mid\n",
    "            return pos\n",
    "        elif lists[mid] < n:\n",
    "            l = mid\n",
    "        else:\n",
    "            u = mid\n",
    "            \n",
    "x = [1,5,8,10,12,13,55,66,73,78,82,85,88,99,100] \n",
    "n = 1\n",
    "print(binary_search(x,n))"
   ]
  }
 ],
 "metadata": {
  "kernelspec": {
   "display_name": "Python 3",
   "language": "python",
   "name": "python3"
  },
  "language_info": {
   "codemirror_mode": {
    "name": "ipython",
    "version": 3
   },
   "file_extension": ".py",
   "mimetype": "text/x-python",
   "name": "python",
   "nbconvert_exporter": "python",
   "pygments_lexer": "ipython3",
   "version": "3.8.5"
  }
 },
 "nbformat": 4,
 "nbformat_minor": 4
}
