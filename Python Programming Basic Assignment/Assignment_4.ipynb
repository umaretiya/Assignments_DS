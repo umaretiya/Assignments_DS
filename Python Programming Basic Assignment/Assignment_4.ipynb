{
 "cells": [
  {
   "cell_type": "code",
   "execution_count": 11,
   "metadata": {},
   "outputs": [
    {
     "name": "stdout",
     "output_type": "stream",
     "text": [
      "Factorial of 5 is 120\n"
     ]
    }
   ],
   "source": [
    "#1. Write a Python Program to Find the Factorial of a Number?\n",
    "factorial =1\n",
    "def fac(num):\n",
    "    if num < 0:\n",
    "        print(\"Factorial for Negative does not exist\")\n",
    "    elif num == 0:\n",
    "        print(\"Factorial for 0 is 1\")\n",
    "    else:\n",
    "        factorial =1\n",
    "        for i in range(1,num+1):\n",
    "            factorial = factorial * i\n",
    "    print(\"Factorial of\",num,\"is\",factorial)\n",
    "\n",
    "            \n",
    "fac(5)        "
   ]
  },
  {
   "cell_type": "code",
   "execution_count": 15,
   "metadata": {},
   "outputs": [
    {
     "name": "stdout",
     "output_type": "stream",
     "text": [
      "Number for Multiplication Table8\n",
      "8 x 1 = 8\n",
      "8 x 2 = 16\n",
      "8 x 3 = 24\n",
      "8 x 4 = 32\n",
      "8 x 5 = 40\n",
      "8 x 6 = 48\n",
      "8 x 7 = 56\n",
      "8 x 8 = 64\n",
      "8 x 9 = 72\n",
      "8 x 10 = 80\n"
     ]
    }
   ],
   "source": [
    "#2. Write a Python Program to Display the multiplication Table?\n",
    "num = input(\"Number for Multiplication Table\")\n",
    "for i in range(1,11):\n",
    "    total = i * int(num)\n",
    "    print(f'{num} x {i} = {total}')"
   ]
  },
  {
   "cell_type": "code",
   "execution_count": 23,
   "metadata": {},
   "outputs": [
    {
     "name": "stdout",
     "output_type": "stream",
     "text": [
      "How many terms? 8\n",
      "Fibonacci sequence:\n",
      "0 1 1 2 3 5 8 13 "
     ]
    }
   ],
   "source": [
    "#3. Write a Python Program to Print the # Program to display the Fibonacci sequence up to n-th term\n",
    "ntr = int(input(\"How many terms? \"))\n",
    "n1, n2 = 0, 1\n",
    "count = 0\n",
    "if ntr <= 0:\n",
    "   print(\"Please enter a positive integer\")\n",
    "elif ntr == 1:\n",
    "   print(\"Fibonacci sequence upto\",ntr,\":\")\n",
    "   print(n1)\n",
    "else:\n",
    "   while count < ntr:\n",
    "       print(n1 , end=\" \")\n",
    "       nth = n1 + n2\n",
    "       n1 = n2\n",
    "       n2 = nth\n",
    "       count += 1"
   ]
  },
  {
   "cell_type": "code",
   "execution_count": 33,
   "metadata": {},
   "outputs": [
    {
     "name": "stdout",
     "output_type": "stream",
     "text": [
      "Enter Number : 5\n",
      "5 is a Armstrong Number\n"
     ]
    }
   ],
   "source": [
    "#4. Write a Python Program to Check Armstrong Number?\n",
    "num = input(\"Enter Number : \")\n",
    "l=[]\n",
    "sq=[]\n",
    "for i in str(num):\n",
    "    l.append(i) \n",
    "for o in range(0,(len(l))):\n",
    "    sq.append(int(l[o])**3)\n",
    "total = 0    \n",
    "for s in sq:\n",
    "    total = total + s\n",
    "if total == int(num):\n",
    "    print(f\"{num} is a Armstrong Number\")\n",
    "elif int(num) <= 9 :\n",
    "    print(f\"{num} is a Armstrong Number\")\n",
    "elif int(num) < 0:\n",
    "    print(\"Enter postive Number\")\n",
    "else:\n",
    "    print(f\"{num} is not a Armstrong Number\")\n"
   ]
  },
  {
   "cell_type": "code",
   "execution_count": 16,
   "metadata": {},
   "outputs": [
    {
     "name": "stdout",
     "output_type": "stream",
     "text": [
      "Enter the Start of the Interval: 1\n",
      "Enter the End of the Interval: 1000\n",
      "The Armstrong numbers between 1 and 1000 are [1, 153, 370, 371, 407]\n"
     ]
    }
   ],
   "source": [
    "#5 Write a Python Program to Find Armstrong Number in an Interval?\n",
    "def checkArmstrongNumber(in_num, storage):\n",
    "    sum = 0\n",
    "    for char in range(len(in_num)):\n",
    "        sum = sum + pow(int(in_num[char]),3)\n",
    "    if sum == int(in_num):\n",
    "        storage.append(int(in_num))\n",
    "\n",
    "start_interval = int(input('Enter the Start of the Interval: '))\n",
    "end_interval = int(input('Enter the End of the Interval: '))\n",
    "list_of_armstrong = []\n",
    "\n",
    "if start_interval > end_interval:\n",
    "    print(\"Start Interval Cannot be Greater than End Interval\")\n",
    "else:\n",
    "    for number in range(start_interval,end_interval+1):\n",
    "        checkArmstrongNumber(str(number),list_of_armstrong)\n",
    "    print(f'The Armstrong numbers between {start_interval} and {end_interval} are {list_of_armstrong}')     "
   ]
  },
  {
   "cell_type": "code",
   "execution_count": 19,
   "metadata": {},
   "outputs": [
    {
     "name": "stdout",
     "output_type": "stream",
     "text": [
      "Enter Number = 100\n",
      "5050.0\n"
     ]
    }
   ],
   "source": [
    "#6 Write a Python Program to Find the Sum of Natural Numbers?\n",
    "num = int(input(\"Enter Number = \"))\n",
    "su = num*(num+1)/2\n",
    "print(su)"
   ]
  }
 ],
 "metadata": {
  "kernelspec": {
   "display_name": "Python 3",
   "language": "python",
   "name": "python3"
  }
 },
 "nbformat": 4,
 "nbformat_minor": 4
}
