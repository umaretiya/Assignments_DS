{
 "cells": [
  {
   "cell_type": "code",
   "execution_count": 38,
   "metadata": {},
   "outputs": [
    {
     "name": "stdout",
     "output_type": "stream",
     "text": [
      "Enter Value of D (Seprated by comma for more than 1 Value ) : 100,150,180\n",
      "Output: 18,22,24\n"
     ]
    }
   ],
   "source": [
    "\"\"\"\n",
    "Question 1:\n",
    "Write a program that calculates and prints the value according to the given formula:\n",
    "Q = Square root of [(2 * C * D)/H]\n",
    "Following are the fixed values of C and H:\n",
    "C is 50. H is 30.\n",
    "D is the variable whose values should be input to your program in a comma-separated\n",
    "sequence.\n",
    "Example\n",
    "Let us assume the following comma separated input sequence is given to the program:\n",
    "100,150,180\n",
    "The output of the program should be:\n",
    "18,22,24\n",
    "\"\"\"\n",
    "import math\n",
    "def find_q(d):\n",
    "    q = math.sqrt((2*50*int(d))/30)\n",
    "    return str(math.floor(q))\n",
    "c = []\n",
    "s = input(\"Enter Value of D (Seprated by comma for more than 1 Value ) : \")\n",
    "b = s.split(\",\")\n",
    "for i in range(0,len(b)):\n",
    "    a = int(b[i])\n",
    "    f = find_q(a)\n",
    "    c.append(f)\n",
    "print(\"Output: {}\".format(','.join(c)))"
   ]
  },
  {
   "cell_type": "code",
   "execution_count": 6,
   "metadata": {},
   "outputs": [
    {
     "name": "stdout",
     "output_type": "stream",
     "text": [
      "Enter the No of Rows:3\n",
      "Enter the No of Columns:5\n",
      "[0, 0, 0, 0, 0]\n",
      "[0, 1, 2, 3, 4]\n",
      "[0, 2, 4, 6, 8]\n"
     ]
    }
   ],
   "source": [
    "\"\"\"\n",
    "Write a program which takes 2 digits, X,Y as input and generates a 2-dimensional array. The\n",
    "element value in the i-th row and j-th column of the array should be i*j.\n",
    "Note: i=0,1.., X-1; j=0,1,¡Y-1.\n",
    "Example\n",
    "Suppose the following inputs are given to the program:\n",
    "3,5\n",
    "Then, the output of the program should be:\n",
    "[[0, 0, 0, 0, 0], \n",
    " [0, 1, 2, 3, 4], \n",
    " [0, 2, 4, 6, 8]]\n",
    "\"\"\"\n",
    "def generateArray():\n",
    "    x = int(input('Enter the No of Rows:'))\n",
    "    y = int(input('Enter the No of Columns:')) \n",
    "    o = []\n",
    "    for i in range(x):\n",
    "        o.insert(x,[])\n",
    "        for j in range(y):\n",
    "            o[i].append(i*j)\n",
    "    for s in o:\n",
    "        print(s)\n",
    "    \n",
    "generateArray()"
   ]
  },
  {
   "cell_type": "code",
   "execution_count": 22,
   "metadata": {},
   "outputs": [
    {
     "name": "stdout",
     "output_type": "stream",
     "text": [
      " Enter words : without,hello,bag,world\n",
      "Output :  bag,hello,without,world\n"
     ]
    }
   ],
   "source": [
    "\"\"\"\n",
    "Question 3:\n",
    "Write a program that accepts a comma separated sequence of words as input and prints the\n",
    "words in a comma-separated sequence after sorting them alphabetically.\n",
    "Suppose the following input is supplied to the program:\n",
    "without,hello,bag,world\n",
    "Then, the output should be:\n",
    "bag,hello,without,world\n",
    "\"\"\"\n",
    "st = input(\" Enter words : \")\n",
    "s= st.split(\",\")\n",
    "s.sort()\n",
    "f = ','.join(s)\n",
    "print(\"Output : \",f)"
   ]
  },
  {
   "cell_type": "code",
   "execution_count": 37,
   "metadata": {},
   "outputs": [
    {
     "name": "stdout",
     "output_type": "stream",
     "text": [
      "Enter Words :hello world and practice makes perfect and hello world again\n",
      "Output :  again and hello makes perfect practice world\n"
     ]
    }
   ],
   "source": [
    "\"\"\"\n",
    "Question 4:\n",
    "Write a program that accepts a sequence of whitespace separated words as input and prints\n",
    "the words after removing all duplicate words and sorting them alphanumerically.\n",
    "Suppose the following input is supplied to the program:\n",
    "hello world and practice makes perfect and hello world again\n",
    "Then, the output should be:\n",
    "again and hello makes perfect practice world\n",
    "\"\"\"\n",
    "s = input(\"Enter Words :\")\n",
    "words = [word for word in s.split(\" \")]\n",
    "print(\"Output : \",\" \".join(sorted(list(set(words)))))"
   ]
  },
  {
   "cell_type": "code",
   "execution_count": 40,
   "metadata": {},
   "outputs": [
    {
     "name": "stdout",
     "output_type": "stream",
     "text": [
      "Enter Input : hello world! 123\n",
      "Letter =  10\n",
      "Digits =  3\n"
     ]
    }
   ],
   "source": [
    "\"\"\"\n",
    "Question 5:\n",
    "Write a program that accepts a sentence and calculate the number of letters and digits.\n",
    "Suppose the following input is supplied to the program:\n",
    "hello world! 123\n",
    "Then, the output should be:\n",
    "LETTERS 10\n",
    "DIGITS 3\n",
    "\"\"\"\n",
    "s = input(\"Enter Input : \")\n",
    "letter = digit = 0\n",
    "for i in s:\n",
    "    if i.isdigit():\n",
    "        digit += 1\n",
    "    elif i.isalpha():\n",
    "        letter += 1\n",
    "print(\"Letter = \",letter)\n",
    "print(\"Digits = \",digit)"
   ]
  },
  {
   "cell_type": "code",
   "execution_count": 46,
   "metadata": {},
   "outputs": [
    {
     "name": "stdout",
     "output_type": "stream",
     "text": [
      "Enter the Input String: ABd1234@1,a F1#,2w3E*,2We3345\n",
      "ABd1234@1\n"
     ]
    }
   ],
   "source": [
    "\"\"\"\n",
    "Question 6:\n",
    "A website requires the users to input username and password to register. Write a program to\n",
    "check the validity of password input by users.\n",
    "Following are the criteria for checking the password:\n",
    "1. At least 1 letter between [a-z]\n",
    "2. At least 1 number between [0-9]\n",
    "1. At least 1 letter between [A-Z]\n",
    "3. At least 1 character from [$#@]\n",
    "4. Minimum length of transaction password: 6\n",
    "5. Maximum length of transaction password: 12\n",
    "Your program should accept a sequence of comma separated passwords and will check them\n",
    "according to the above criteria. Passwords that match the criteria are to be printed, each\n",
    "separated by a comma.\n",
    "Example\n",
    "If the following passwords are given as input to the program:\n",
    "ABd1234@1,a F1#,2w3E*,2We3345\n",
    "Then, the output of the program should be:\n",
    "ABd1234@1\n",
    "\"\"\"\n",
    "def checkPassword():\n",
    "    in_string = input(\"Enter the Input String: \")\n",
    "    small_list = \"abcdefghijklmnopqrstuvwxyz\"\n",
    "    cap_list = \"ABCDEFGHIJKLMNOPQRSTUVWXYZ\"\n",
    "    num_list = \"0123456789\"\n",
    "    special_list = \"$#@\"\n",
    "    for ele in in_string.split(\",\"):\n",
    "        if len(ele) <= 12 and len(ele) >=6 :\n",
    "            if any(i.isupper() for i in ele):\n",
    "                if any(i.islower() for i in ele):\n",
    "                    if any(i for i in ele if i in special_list):\n",
    "                        print(ele)\n",
    "                               \n",
    "checkPassword() "
   ]
  }
 ],
 "metadata": {
  "kernelspec": {
   "display_name": "Python 3",
   "language": "python",
   "name": "python3"
  },
  "language_info": {
   "codemirror_mode": {
    "name": "ipython",
    "version": 3
   },
   "file_extension": ".py",
   "mimetype": "text/x-python",
   "name": "python",
   "nbconvert_exporter": "python",
   "pygments_lexer": "ipython3",
   "version": "3.8.5"
  }
 },
 "nbformat": 4,
 "nbformat_minor": 4
}
