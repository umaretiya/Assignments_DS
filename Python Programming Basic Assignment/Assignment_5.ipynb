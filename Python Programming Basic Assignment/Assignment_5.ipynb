{
 "cells": [
  {
   "cell_type": "code",
   "execution_count": 3,
   "metadata": {},
   "outputs": [
    {
     "name": "stdout",
     "output_type": "stream",
     "text": [
      "The LCM of 3,4 is 12\n",
      "The LCM of 12,15 is 60\n"
     ]
    }
   ],
   "source": [
    "#1. Write a Python Program to Find LCM?\n",
    "def findTheLcm(x,y):\n",
    "    if x > y:\n",
    "        high = x\n",
    "    else:\n",
    "        high = y\n",
    "    while True:\n",
    "        if((high%x == 0) and (high%y == 0)):\n",
    "            lcm = high\n",
    "            break\n",
    "        else:\n",
    "            high +=1\n",
    "    print(f'The LCM of {x},{y} is {lcm}')\n",
    "findTheLcm(3,4)\n",
    "findTheLcm(12,15)"
   ]
  },
  {
   "cell_type": "code",
   "execution_count": 4,
   "metadata": {},
   "outputs": [
    {
     "name": "stdout",
     "output_type": "stream",
     "text": [
      "The HCF of 10,2 is 2\n",
      "The HCF of 5,3 is 1\n",
      "The HCF of 10,25 is 5\n"
     ]
    }
   ],
   "source": [
    "#2. Write a Python Program to Find HCF?\n",
    "def findTheHcf(x1,x2):\n",
    "    if x1>x2:\n",
    "        sml = x2\n",
    "    else:\n",
    "        sml = x1\n",
    "    for lee in range(1,sml+1):\n",
    "        if((x1%lee == 0) and (x2%lee == 0)):\n",
    "            hcf = lee\n",
    "    print(f'The HCF of {x1},{x2} is {hcf}')\n",
    "\n",
    "findTheHcf(10,2)\n",
    "findTheHcf(5,3)\n",
    "findTheHcf(10,25)"
   ]
  },
  {
   "cell_type": "code",
   "execution_count": 5,
   "metadata": {},
   "outputs": [
    {
     "name": "stdout",
     "output_type": "stream",
     "text": [
      "Enter a Number: 23\n",
      "Binary Number -> 0b10111\n",
      "Octal Number -> 0o27\n",
      "Hexadecimal Number -> 0x17\n"
     ]
    }
   ],
   "source": [
    "#3. Write a Python Program to Convert Decimal to Binary, Octal and Hexadecimal?\n",
    "def Number():\n",
    "    num = int(input('Enter a Number: '))\n",
    "    print(f'Binary Number -> {bin(num)}')\n",
    "    print(f'Octal Number -> {oct(num)}')    \n",
    "    print(f'Hexadecimal Number -> {hex(num)}')    \n",
    "\n",
    "Number()"
   ]
  },
  {
   "cell_type": "code",
   "execution_count": 7,
   "metadata": {},
   "outputs": [
    {
     "name": "stdout",
     "output_type": "stream",
     "text": [
      "Enter Charactor : 2\n",
      "ASCII value of 2 charactor is 50 \n"
     ]
    }
   ],
   "source": [
    "#4.Write a Python Program To Find ASCII value of a character?\n",
    "ch = input(\"Enter Charactor : \")\n",
    "print(f\"ASCII value of {ch} charactor is {ord(ch)} \")"
   ]
  },
  {
   "cell_type": "code",
   "execution_count": 22,
   "metadata": {},
   "outputs": [
    {
     "name": "stdout",
     "output_type": "stream",
     "text": [
      "\n",
      "\n",
      "1 -> Addition\n",
      "\n",
      "2 -> Subtraction\n",
      "\n",
      "3 -> Multiplication\n",
      "\n",
      "4 -> Division\n",
      "\n",
      "0 -> Exit\n",
      "\n",
      "Enter Operation : 5\n",
      "Enter Number between 1 to 4 Or 0\n",
      "Enter Operation : 4\n",
      "Enter First Value : 5\n",
      "ENter Second Value : 6\n",
      "0.8333333333333334\n"
     ]
    }
   ],
   "source": [
    "#5 Write a Python Program to Make a Simple Calculator with 4 basic mathematical operations?   \n",
    "    \n",
    "print('''\n",
    "\\n1 -> Addition\n",
    "\\n2 -> Subtraction\n",
    "\\n3 -> Multiplication\n",
    "\\n4 -> Division\n",
    "\\n0 -> Exit\n",
    "''')\n",
    "e = int(input(\"Enter Operation : \"))\n",
    "while True:\n",
    "    if e in [1,2,3,4]:\n",
    "        n1 = int(input(\"Enter First Value : \"))\n",
    "        n2 = int(input(\"ENter Second Value : \"))\n",
    "        break\n",
    "    elif e == 0:\n",
    "        break\n",
    "    else:\n",
    "        print(\"Enter Number between 1 to 4 Or 0\")\n",
    "        e = int(input(\"Enter Operation : \"))\n",
    "if e != 0:    \n",
    "    while True:\n",
    "        if e == 1:\n",
    "            result = n1 + n2\n",
    "            print(result)\n",
    "            break\n",
    "        elif e == 2:\n",
    "            result = n1 - n2\n",
    "            print(result)\n",
    "            break\n",
    "        elif e == 3:\n",
    "            result = n1 * n2\n",
    "            print(result)\n",
    "            break\n",
    "        elif e == 4:\n",
    "            result = n1 / n2\n",
    "            print(result)\n",
    "            break\n",
    "        elif e == 0:\n",
    "            break"
   ]
  }
 ],
 "metadata": {
  "kernelspec": {
   "display_name": "Python 3",
   "language": "python",
   "name": "python3"
  },
  "language_info": {
   "codemirror_mode": {
    "name": "ipython",
    "version": 3
   },
   "file_extension": ".py",
   "mimetype": "text/x-python",
   "name": "python",
   "nbconvert_exporter": "python",
   "pygments_lexer": "ipython3",
   "version": "3.8.5"
  }
 },
 "nbformat": 4,
 "nbformat_minor": 4
}
