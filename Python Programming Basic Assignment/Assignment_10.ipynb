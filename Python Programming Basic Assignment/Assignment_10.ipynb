{
 "cells": [
  {
   "cell_type": "code",
   "execution_count": 4,
   "metadata": {},
   "outputs": [
    {
     "name": "stdout",
     "output_type": "stream",
     "text": [
      "String is also present in the List\n"
     ]
    },
    {
     "data": {
      "text/plain": [
       "12"
      ]
     },
     "execution_count": 4,
     "metadata": {},
     "output_type": "execute_result"
    }
   ],
   "source": [
    "#1. Write a Python program to find sum of elements in list?\n",
    "def sum_list(l):\n",
    "    s = []\n",
    "    st = 0\n",
    "    for i in range(0,len(l)):\n",
    "        if type(l[i]) == int:\n",
    "            s.append(l[i])\n",
    "        else:\n",
    "            st += 1\n",
    "    if st > 0:\n",
    "        print(\"String is also present in the List\")\n",
    "    return sum(s)\n",
    "            \n",
    "li = [1,2,'3',4,5]\n",
    "sum_list(li)"
   ]
  },
  {
   "cell_type": "code",
   "execution_count": 8,
   "metadata": {},
   "outputs": [
    {
     "name": "stdout",
     "output_type": "stream",
     "text": [
      "String is also presnt in the list\n"
     ]
    },
    {
     "data": {
      "text/plain": [
       "40"
      ]
     },
     "execution_count": 8,
     "metadata": {},
     "output_type": "execute_result"
    }
   ],
   "source": [
    "#2. Write a Python program to Multiply all numbers in the list?\n",
    "def mul_list(l):\n",
    "    s = []\n",
    "    st = 0\n",
    "    f = 1\n",
    "    for i in range(0,len(l)):\n",
    "        if type(l[i]) == int:\n",
    "            s.append(l[i])\n",
    "        else:\n",
    "            st += 1\n",
    "    if st > 0:\n",
    "        print(\"String is also presnt in the list\")\n",
    "    for i in range (0,len(s)):\n",
    "        f = f * s[i]\n",
    "    return f\n",
    "li = [1,2,'3',4,5]\n",
    "mul_list(li)"
   ]
  },
  {
   "cell_type": "code",
   "execution_count": 11,
   "metadata": {},
   "outputs": [
    {
     "name": "stdout",
     "output_type": "stream",
     "text": [
      "String is also presnt in the list\n"
     ]
    },
    {
     "data": {
      "text/plain": [
       "22"
      ]
     },
     "execution_count": 11,
     "metadata": {},
     "output_type": "execute_result"
    }
   ],
   "source": [
    "#3. Write a Python program to find smallest number in a list?\n",
    "def min_list(l):\n",
    "    s = []\n",
    "    st = 0\n",
    "    f = 1\n",
    "    for i in range(0,len(l)):\n",
    "        if type(l[i]) == int:\n",
    "            s.append(l[i])\n",
    "        else:\n",
    "            st += 1\n",
    "    if st > 0:\n",
    "        print(\"String is also presnt in the list\")\n",
    "    return min(s)\n",
    "li = [50,22,'3',40,56]\n",
    "min_list(li)"
   ]
  },
  {
   "cell_type": "code",
   "execution_count": 13,
   "metadata": {},
   "outputs": [
    {
     "name": "stdout",
     "output_type": "stream",
     "text": [
      "String is also presnt in the list\n"
     ]
    },
    {
     "data": {
      "text/plain": [
       "56"
      ]
     },
     "execution_count": 13,
     "metadata": {},
     "output_type": "execute_result"
    }
   ],
   "source": [
    "#4. Write a Python program to find largest number in a list?\n",
    "def max_list(l):\n",
    "    s = []\n",
    "    st = 0\n",
    "    f = 1\n",
    "    for i in range(0,len(l)):\n",
    "        if type(l[i]) == int:\n",
    "            s.append(l[i])\n",
    "        else:\n",
    "            st += 1\n",
    "    if st > 0:\n",
    "        print(\"String is also presnt in the list\")\n",
    "    return max(s)\n",
    "li = [50,22,'3',40,56]\n",
    "max_list(li)"
   ]
  },
  {
   "cell_type": "code",
   "execution_count": 14,
   "metadata": {},
   "outputs": [
    {
     "name": "stdout",
     "output_type": "stream",
     "text": [
      "String is also presnt in the list\n"
     ]
    },
    {
     "data": {
      "text/plain": [
       "50"
      ]
     },
     "execution_count": 14,
     "metadata": {},
     "output_type": "execute_result"
    }
   ],
   "source": [
    "#5. Write a Python program to find second largest number in a list?\n",
    "def sec_max_list(l):\n",
    "    s = []\n",
    "    st = 0\n",
    "    for i in range(0,len(l)):\n",
    "        if type(l[i]) == int:\n",
    "            s.append(l[i])\n",
    "        else:\n",
    "            st += 1\n",
    "    if st > 0:\n",
    "        print(\"String is also presnt in the list\")\n",
    "    s.sort()\n",
    "    return s[-2]\n",
    "li = [50,22,'3',40,56]\n",
    "sec_max_list(li)"
   ]
  },
  {
   "cell_type": "code",
   "execution_count": 19,
   "metadata": {},
   "outputs": [
    {
     "name": "stdout",
     "output_type": "stream",
     "text": [
      "Enter N elements : 5\n"
     ]
    },
    {
     "data": {
      "text/plain": [
       "[83, 58, 56, 50, 44]"
      ]
     },
     "execution_count": 19,
     "metadata": {},
     "output_type": "execute_result"
    }
   ],
   "source": [
    "#6. Write a Python program to find N largest elements from a list?\n",
    "def sec_max_list(l):\n",
    "    s = []\n",
    "    f = []\n",
    "    for i in range(0,len(l)):\n",
    "        if type(l[i]) == int:\n",
    "            s.append(l[i])\n",
    "    s.sort()\n",
    "    n_int = int(input(\"Enter N elements : \"))\n",
    "    if n_int < len(s):\n",
    "        for i in range(1,n_int+1):\n",
    "            f.append(s[-i])\n",
    "    else:\n",
    "        print(\"N out of range \")\n",
    "    return f\n",
    "li = [50,22,44,58,83,40,56]\n",
    "sec_max_list(li)"
   ]
  },
  {
   "cell_type": "code",
   "execution_count": 20,
   "metadata": {},
   "outputs": [
    {
     "data": {
      "text/plain": [
       "'The even numbers in the list are :[36, 100, 2, 8, 56, 98]'"
      ]
     },
     "execution_count": 20,
     "metadata": {},
     "output_type": "execute_result"
    }
   ],
   "source": [
    "#7. Write a Python program to print even numbers in a list?\n",
    "def even_num_in_list(l):\n",
    "    evenlist =[]\n",
    "    for i in l:\n",
    "        if i % 2 == 0:\n",
    "            evenlist.append(i)\n",
    "    return f\"The even numbers in the list are :{evenlist}\"\n",
    "\n",
    "l = [25,36,100,105,2,8,56,7,43,67,98,45]\n",
    "even_num_in_list(l)"
   ]
  },
  {
   "cell_type": "code",
   "execution_count": 21,
   "metadata": {},
   "outputs": [
    {
     "data": {
      "text/plain": [
       "'The odd numbers in the list are :[25, 105, 7, 43, 67, 45]'"
      ]
     },
     "execution_count": 21,
     "metadata": {},
     "output_type": "execute_result"
    }
   ],
   "source": [
    "#8. Write a Python program to print odd numbers in a List?\n",
    "def odd_num_in_list(l):\n",
    "    oddlist =[]\n",
    "    for i in l:\n",
    "        if i % 2 != 0:\n",
    "            oddlist.append(i)\n",
    "    return f\"The odd numbers in the list are :{oddlist}\"\n",
    "\n",
    "l = [25,36,100,105,2,8,56,7,43,67,98,45]\n",
    "odd_num_in_list(l)"
   ]
  },
  {
   "cell_type": "code",
   "execution_count": 24,
   "metadata": {},
   "outputs": [
    {
     "data": {
      "text/plain": [
       "[25, [6, 100, 105], 2, 8, 56, 7, 43, [67, 98, 45]]"
      ]
     },
     "execution_count": 24,
     "metadata": {},
     "output_type": "execute_result"
    }
   ],
   "source": [
    "#9. Write a Python program to Remove empty List from List?\n",
    "def remove_empty_list(l):\n",
    "    newlist = [i for i in l if i != []]\n",
    "    return newlist\n",
    "\n",
    "l = [25,[6,100,105],[],2,8,56,7,[],43,[67,98,45]]\n",
    "remove_empty_list(l)"
   ]
  },
  {
   "cell_type": "code",
   "execution_count": 26,
   "metadata": {},
   "outputs": [
    {
     "data": {
      "text/plain": [
       "'The copied list is : [25, [6, 100, 105], 2, 8, 56, 7, 43, [67, 98, 45]]'"
      ]
     },
     "execution_count": 26,
     "metadata": {},
     "output_type": "execute_result"
    }
   ],
   "source": [
    "#10. Write a Python program to Cloning or Copying a list?\n",
    "def copy_list(l):\n",
    "    new_list = l.copy()\n",
    "    return f\"The copied list is : {new_list}\"\n",
    "\n",
    "s = [25,[6,100,105],2,8,56,7,43,[67,98,45]]\n",
    "copy_list(s)"
   ]
  },
  {
   "cell_type": "code",
   "execution_count": 29,
   "metadata": {},
   "outputs": [
    {
     "name": "stdout",
     "output_type": "stream",
     "text": [
      "Element to Check Occurrence : 6\n"
     ]
    },
    {
     "data": {
      "text/plain": [
       "'6 has occured 1 times'"
      ]
     },
     "execution_count": 29,
     "metadata": {},
     "output_type": "execute_result"
    }
   ],
   "source": [
    "#11. Write a Python program to Count occurrences of an element in a list? \n",
    "def count_occurrences(n,l):\n",
    "    return f\"{n} has occured {l.count(n)} times\"\n",
    "\n",
    "l = [1,1,5,4,65,65,8,1,2,5,6,7,8,9,8,8,8,9]\n",
    "n = int(input(\"Element to Check Occurrence : \"))\n",
    "count_occurrences(n,l)"
   ]
  }
 ],
 "metadata": {
  "kernelspec": {
   "display_name": "Python 3",
   "language": "python",
   "name": "python3"
  },
  "language_info": {
   "codemirror_mode": {
    "name": "ipython",
    "version": 3
   },
   "file_extension": ".py",
   "mimetype": "text/x-python",
   "name": "python",
   "nbconvert_exporter": "python",
   "pygments_lexer": "ipython3",
   "version": "3.8.5"
  }
 },
 "nbformat": 4,
 "nbformat_minor": 4
}
