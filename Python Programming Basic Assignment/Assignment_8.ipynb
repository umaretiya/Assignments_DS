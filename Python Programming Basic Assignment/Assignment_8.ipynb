{
 "cells": [
  {
   "cell_type": "code",
   "execution_count": 2,
   "metadata": {},
   "outputs": [
    {
     "name": "stdout",
     "output_type": "stream",
     "text": [
      "[17, 15, 4]\n",
      "[10, 12, 9]\n",
      "[11, 13, 18]\n"
     ]
    }
   ],
   "source": [
    "#1. Write a Python Program to Add Two Matrices?\n",
    "X = [[12,7,3],\n",
    "    [4 ,5,6],\n",
    "    [7 ,8,9]]\n",
    "\n",
    "Y = [[5,8,1],\n",
    "    [6,7,3],\n",
    "    [4,5,9]]\n",
    "\n",
    "result = [[0,0,0],\n",
    "          [0,0,0],\n",
    "          [0,0,0]]\n",
    "for i in range(len(X)):\n",
    "    for j in range(len(X[0])):\n",
    "        result[i][j] = X[i][j] + Y[i][j]\n",
    "for s in result:\n",
    "    print(s)"
   ]
  },
  {
   "cell_type": "code",
   "execution_count": 4,
   "metadata": {},
   "outputs": [
    {
     "name": "stdout",
     "output_type": "stream",
     "text": [
      "[136, 380]\n",
      "[215, 424]\n",
      "[163, 371]\n"
     ]
    }
   ],
   "source": [
    "#2. Write a Python Program to Multiply Two Matrices?\n",
    "X = [[12,8,4],\n",
    "    [3 ,17,14],\n",
    "    [9 ,8,10]]\n",
    "\n",
    "Y = [[5,19],\n",
    "     [6,15],\n",
    "     [7,8]]\n",
    "\n",
    "R = [[0,0],\n",
    "     [0,0],\n",
    "     [0,0]]\n",
    "\n",
    "for i in range(0,len(R)):\n",
    "    for j in range(0,len(R[0])):\n",
    "        for k in range(0,len(Y)):\n",
    "            R[i][j] += X[i][k] * Y[k][j]\n",
    "            \n",
    "for S in R:\n",
    "    print(S)"
   ]
  },
  {
   "cell_type": "code",
   "execution_count": 5,
   "metadata": {},
   "outputs": [
    {
     "name": "stdout",
     "output_type": "stream",
     "text": [
      "[12, 4, 3]\n",
      "[7, 5, 8]\n"
     ]
    }
   ],
   "source": [
    "#3. Write a Python Program to Transpose a Matrix?\n",
    "X = [[12,7],\n",
    "     [4 ,5],\n",
    "     [3 ,8]]\n",
    "\n",
    "R = [[0,0,0],\n",
    "          [0,0,0]]\n",
    "\n",
    "for i in range(0,len(X)):\n",
    "    for j in range(0,len(X[0])):\n",
    "        R[j][i] = X[i][j]\n",
    "        \n",
    "for S in R:\n",
    "    print(S)"
   ]
  },
  {
   "cell_type": "code",
   "execution_count": 29,
   "metadata": {},
   "outputs": [
    {
     "name": "stdout",
     "output_type": "stream",
     "text": [
      "This\n",
      "is\n",
      "my\n",
      "sort\n",
      "string\n",
      "the\n",
      "to\n",
      "words\n"
     ]
    }
   ],
   "source": [
    "#4.Write a Python Program to Sort Words in Alphabetic Order?\n",
    "s = \"This is my string to sort the words\"\n",
    "l = s.split()\n",
    "l.sort()\n",
    "for fi in l:\n",
    "    print(fi)"
   ]
  },
  {
   "cell_type": "code",
   "execution_count": 35,
   "metadata": {},
   "outputs": [
    {
     "name": "stdout",
     "output_type": "stream",
     "text": [
      "Input String :  Remove() 'Punctuation' From a String!!\n",
      "Output String :  Remove Punctuation From a String\n"
     ]
    }
   ],
   "source": [
    "#5.Write a Python Program to Remove Punctuation From a String?\n",
    "punctuations = '''!()-[]{};:'\"\\,<>./?@#$%^&*_~'''\n",
    " \n",
    "my_str = \"Remove() 'Punctuation' From a String!!\"\n",
    " \n",
    "# remove punctuation from the string\n",
    "no_punct = \"\"\n",
    "for word in my_str:\n",
    "   if word not in punctuations:\n",
    "       no_punct = no_punct + word\n",
    "print(\"Input String : \" ,my_str)\n",
    "print(\"Output String : \" ,no_punct)"
   ]
  }
 ],
 "metadata": {
  "kernelspec": {
   "display_name": "Python 3",
   "language": "python",
   "name": "python3"
  },
  "language_info": {
   "codemirror_mode": {
    "name": "ipython",
    "version": 3
   },
   "file_extension": ".py",
   "mimetype": "text/x-python",
   "name": "python",
   "nbconvert_exporter": "python",
   "pygments_lexer": "ipython3",
   "version": "3.8.5"
  }
 },
 "nbformat": 4,
 "nbformat_minor": 4
}
