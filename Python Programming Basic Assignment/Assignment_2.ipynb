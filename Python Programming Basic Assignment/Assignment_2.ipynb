{
 "cells": [
  {
   "cell_type": "code",
   "execution_count": 1,
   "metadata": {},
   "outputs": [
    {
     "data": {
      "text/plain": [
       "621.4"
      ]
     },
     "execution_count": 1,
     "metadata": {},
     "output_type": "execute_result"
    }
   ],
   "source": [
    "#1. Write a Python program to convert kilometers to miles?\n",
    "def convert(d):\n",
    "    miles = d * 0.6214\n",
    "    return miles\n",
    "\n",
    "convert(1000)"
   ]
  },
  {
   "cell_type": "code",
   "execution_count": 3,
   "metadata": {},
   "outputs": [
    {
     "data": {
      "text/plain": [
       "50.0"
      ]
     },
     "execution_count": 3,
     "metadata": {},
     "output_type": "execute_result"
    }
   ],
   "source": [
    "#2. Write a Python program to convert Celsius to Fahrenheit?\n",
    "def cov(c):\n",
    "    fah = (c * 1.8) + 32\n",
    "    return fah\n",
    "cov(10)"
   ]
  },
  {
   "cell_type": "code",
   "execution_count": 7,
   "metadata": {},
   "outputs": [
    {
     "name": "stdout",
     "output_type": "stream",
     "text": [
      "   February 2022\n",
      "Mo Tu We Th Fr Sa Su\n",
      "    1  2  3  4  5  6\n",
      " 7  8  9 10 11 12 13\n",
      "14 15 16 17 18 19 20\n",
      "21 22 23 24 25 26 27\n",
      "28\n",
      "\n"
     ]
    }
   ],
   "source": [
    "#3. Write a Python program to display calendar?\n",
    "import calendar\n",
    "print(calendar.month(2022,2))"
   ]
  },
  {
   "cell_type": "code",
   "execution_count": 8,
   "metadata": {},
   "outputs": [
    {
     "name": "stdout",
     "output_type": "stream",
     "text": [
      "The roots are (-1.5-0.5j) (-1.5+0.5j)\n"
     ]
    }
   ],
   "source": [
    "#4.Write a Python program to solve quadratic equation?\n",
    "import cmath\n",
    "a = 2\n",
    "b = 6 \n",
    "c = 5\n",
    "\n",
    "dis = (b**2) - (4 * a*c)\n",
    "\n",
    "ans1 = (-b - cmath.sqrt(dis))/(2 * a)\n",
    "ans2 = (-b + cmath.sqrt(dis))/(2 * a)\n",
    "\n",
    "print('The roots are', ans1 , ans2)"
   ]
  },
  {
   "cell_type": "code",
   "execution_count": 11,
   "metadata": {},
   "outputs": [
    {
     "name": "stdout",
     "output_type": "stream",
     "text": [
      "varaiable is 10 5\n"
     ]
    }
   ],
   "source": [
    "#5.Write a Python program to swap two variables without temp variable?\n",
    "a = 5\n",
    "b = 10\n",
    "\n",
    "a,b = b,a\n",
    "print(\"varaiable is\",a, b)"
   ]
  }
 ],
 "metadata": {
  "kernelspec": {
   "display_name": "Python 3",
   "language": "python",
   "name": "python3"
  },
  "language_info": {
   "codemirror_mode": {
    "name": "ipython",
    "version": 3
   },
   "file_extension": ".py",
   "mimetype": "text/x-python",
   "name": "python",
   "nbconvert_exporter": "python",
   "pygments_lexer": "ipython3",
   "version": "3.8.5"
  }
 },
 "nbformat": 4,
 "nbformat_minor": 4
}
