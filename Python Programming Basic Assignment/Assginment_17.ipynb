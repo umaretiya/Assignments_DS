{
 "cells": [
  {
   "cell_type": "code",
   "execution_count": 5,
   "metadata": {},
   "outputs": [
    {
     "name": "stdout",
     "output_type": "stream",
     "text": [
      "30\n"
     ]
    }
   ],
   "source": [
    "\"\"\"\n",
    "Question1. Create a function that takes three arguments a, b, c and returns the sum of the\n",
    "numbers that are evenly divided by c from the range a, b inclusive.\n",
    "\"\"\"\n",
    "def sum_of(a,b,c):\n",
    "    f = []\n",
    "    for i in range(a,b+1):\n",
    "        if i % c == 0:\n",
    "            f.append(i)\n",
    "    return sum(f)\n",
    "\n",
    "print(sum_of(1,10,2))"
   ]
  },
  {
   "cell_type": "code",
   "execution_count": 10,
   "metadata": {},
   "outputs": [
    {
     "data": {
      "text/plain": [
       "True"
      ]
     },
     "execution_count": 10,
     "metadata": {},
     "output_type": "execute_result"
    }
   ],
   "source": [
    "\"\"\"\n",
    "Question2. Create a function that returns True if a given inequality expression is correct and\n",
    "False otherwise.\n",
    "\"\"\"\n",
    "def correct_signs(*kargs):\n",
    "    s = eval(*kargs)\n",
    "    return s\n",
    "\n",
    "correct_signs(\"3<4<6\")"
   ]
  },
  {
   "cell_type": "code",
   "execution_count": 20,
   "metadata": {},
   "outputs": [
    {
     "data": {
      "text/plain": [
       "'th# ##rdv#rk'"
      ]
     },
     "execution_count": 20,
     "metadata": {},
     "output_type": "execute_result"
    }
   ],
   "source": [
    "\"\"\"\n",
    "Question3. Create a function that replaces all the vowels in a string with a specified character.\n",
    "\"\"\"\n",
    "def replaced(w,r):\n",
    "    v = \"aeiouAEIOU\"\n",
    "    for i in v:\n",
    "        w = w.replace(i,r)\n",
    "    return w\n",
    "\n",
    "replaced('the aardvark', '#') "
   ]
  },
  {
   "cell_type": "code",
   "execution_count": 21,
   "metadata": {},
   "outputs": [
    {
     "data": {
      "text/plain": [
       "120"
      ]
     },
     "execution_count": 21,
     "metadata": {},
     "output_type": "execute_result"
    }
   ],
   "source": [
    "\"\"\"\n",
    "Question4. Write a function that calculates the factorial of a number recursively.\n",
    "\"\"\"\n",
    "def factorial(n):\n",
    "    if n == 1:\n",
    "        return 1\n",
    "    else:\n",
    "        return n * factorial(n-1)\n",
    "    \n",
    "factorial(5)"
   ]
  },
  {
   "cell_type": "code",
   "execution_count": 25,
   "metadata": {},
   "outputs": [
    {
     "data": {
      "text/plain": [
       "5"
      ]
     },
     "execution_count": 25,
     "metadata": {},
     "output_type": "execute_result"
    }
   ],
   "source": [
    "\"\"\"\n",
    "Question 5\n",
    "Hamming distance is the number of characters that differ between two strings.\n",
    "To illustrate:\n",
    "String1: 'abcbba'\n",
    "String2: 'abcbda'\n",
    "Hamming Distance: 1 - 'b' vs. 'd' is the only difference.\n",
    "Create a function that computes the hamming distance between two strings.\n",
    "\"\"\"\n",
    "def hamming_distance(f,s):\n",
    "    count = 0\n",
    "    for i in range(0,len(f)):\n",
    "        if f[i] != s[i]:\n",
    "            count += 1\n",
    "    return count\n",
    "hamming_distance('abcde', 'bcdef')"
   ]
  }
 ],
 "metadata": {
  "kernelspec": {
   "display_name": "Python 3",
   "language": "python",
   "name": "python3"
  },
  "language_info": {
   "codemirror_mode": {
    "name": "ipython",
    "version": 3
   },
   "file_extension": ".py",
   "mimetype": "text/x-python",
   "name": "python",
   "nbconvert_exporter": "python",
   "pygments_lexer": "ipython3",
   "version": "3.8.5"
  }
 },
 "nbformat": 4,
 "nbformat_minor": 4
}
